{
 "cells": [
  {
   "cell_type": "code",
   "execution_count": 355,
   "metadata": {},
   "outputs": [
    {
     "name": "stdout",
     "output_type": "stream",
     "text": [
      "The autoreload extension is already loaded. To reload it, use:\n",
      "  %reload_ext autoreload\n"
     ]
    }
   ],
   "source": [
    "%load_ext autoreload\n",
    "%autoreload 2\n",
    "\n",
    "\n",
    "\n",
    "\n",
    "        "
   ]
  },
  {
   "cell_type": "code",
   "execution_count": 356,
   "metadata": {},
   "outputs": [
    {
     "name": "stdout",
     "output_type": "stream",
     "text": [
      "The model will be trained with cuda\n"
     ]
    }
   ],
   "source": [
    "import numpy as np\n",
    "import random\n",
    "import time\n",
    "import torch\n",
    "import torch.nn as nn\n",
    "import torch.optim as optim\n",
    "import torch.nn.functional as F\n",
    "import matplotlib.pyplot as plt\n",
    "import math\n",
    "\n",
    "np.random.seed(13)\n",
    "torch.manual_seed(13)\n",
    "\n",
    "plt.ion()\n",
    "device = torch.device(\"cuda\" if torch.cuda.is_available() else \"cpu\")\n",
    "print(\"The model will be trained with\", device)\n",
    "\n"
   ]
  },
  {
   "cell_type": "code",
   "execution_count": 357,
   "metadata": {},
   "outputs": [
    {
     "name": "stdout",
     "output_type": "stream",
     "text": [
      "n,m:  9 9\n",
      "setting agent position to  2 3\n"
     ]
    }
   ],
   "source": [
    "from environments.SnowmanEnvironment import SnowmanEnvironment\n",
    "map_path = './Dades/alex.txt'\n",
    "save_path = './trainedModels/david1.pt'\n",
    "map_rows=9\n",
    "map_cols=9\n",
    "n_actions = 4 #Modifica quan implementi gym\n",
    "map_layers = 1\n",
    "\n",
    "snowman_env = SnowmanEnvironment(map_file=map_path, \n",
    "                                 n=map_rows, m=map_cols, \n",
    "                                 stop_when_error=False, \n",
    "                                 stop_when_dumb=False, \n",
    "                                 enable_step_back_optimzation=True, \n",
    "                                 enable_blocked_snowman_optimization=True,\n",
    "                                 enable_snowball_number_optimization=True)\n"
   ]
  },
  {
   "cell_type": "code",
   "execution_count": 358,
   "metadata": {},
   "outputs": [],
   "source": [
    "from utils.ReplayMemory import ReplayMemory\n",
    "from utils.ReplayMemory import Transition\n",
    "\n",
    "memory = ReplayMemory(100000)\n"
   ]
  },
  {
   "cell_type": "code",
   "execution_count": 359,
   "metadata": {},
   "outputs": [
    {
     "data": {
      "text/plain": [
       "<All keys matched successfully>"
      ]
     },
     "execution_count": 359,
     "metadata": {},
     "output_type": "execute_result"
    }
   ],
   "source": [
    "from neuralNests.ConvNet_v1 import DQN\n",
    "policy_net = DQN(map_layers, n_actions, map_rows, map_cols).to(device)\n",
    "target_net = DQN(map_layers, n_actions, map_rows, map_cols).to(device)\n",
    "target_net.load_state_dict(policy_net.state_dict())"
   ]
  },
  {
   "cell_type": "code",
   "execution_count": 360,
   "metadata": {},
   "outputs": [],
   "source": [
    "\n",
    "from trainingAgents.SnowmanTrainingAgent import TrainingAgent\n",
    "\n",
    "BATCH_SIZE = 512 #mida del batch del replay\n",
    "GAMMA = 0.95 #factor de descompte de les recompeses futures\n",
    "EPS_START = 1 #valor inicial de la epsilon per la epsilon greedy policy\n",
    "EPS_END = 0.05 #valor final de la epsilon per la epsilon greedy policy\n",
    "EPS_DECAY = 10000 #controla la caiguda expoencial del valor epsilon, com més alt, mes lent disminueix\n",
    "TAU = 0.005 #controla cada quan s'actualitza la target network\n",
    "LR = 1e-4 #Learning rate de l'optimitzador\n",
    "RANDOMIZE_AGENT_POSITION_EACH_EPISODE = True\n"
   ]
  },
  {
   "cell_type": "code",
   "execution_count": 361,
   "metadata": {},
   "outputs": [],
   "source": [
    "\n",
    "INITIAL_RANDOM_STEPS = 10000\n",
    "\n",
    "\n",
    "optimizer = optim.AdamW(policy_net.parameters(), lr=LR, amsgrad=True)\n",
    "training_agent = TrainingAgent(policy_net, target_net, optimizer, memory, EPS_END, EPS_START, EPS_DECAY, GAMMA, BATCH_SIZE, INITIAL_RANDOM_STEPS, device)\n",
    "\n"
   ]
  },
  {
   "cell_type": "code",
   "execution_count": 362,
   "metadata": {},
   "outputs": [
    {
     "name": "stdout",
     "output_type": "stream",
     "text": [
      "***************************ENCODED MAP****************************\n",
      "[[ 0.  0.  0.  0.  0.  0.  0.  0.  0.]\n",
      " [ 0.  0.  0.  0.  0.  0.  0.  0.  0.]\n",
      " [ 0.  0.  9. 10.  1.  9.  9.  0.  0.]\n",
      " [ 0.  0.  9.  2.  9.  2.  9.  0.  0.]\n",
      " [ 0.  0.  9.  9.  9.  9.  9.  0.  0.]\n",
      " [ 0.  0.  9.  0.  9.  0.  9.  0.  0.]\n",
      " [ 0.  0.  9.  9.  9.  9.  9.  0.  0.]\n",
      " [ 0.  0.  0.  0.  0.  0.  0.  0.  0.]\n",
      " [ 0.  0.  0.  0.  0.  0.  0.  0.  0.]]\n",
      "\n",
      "\n",
      "***************************DECODED MAP****************************\n",
      "[['#' '#' '#' '#' '#' '#' '#' '#' '#']\n",
      " ['#' '#' '#' '#' '#' '#' '#' '#' '#']\n",
      " ['#' '#' '.' 'p' '1' '.' '.' '#' '#']\n",
      " ['#' '#' '.' '2' '.' '2' '.' '#' '#']\n",
      " ['#' '#' '.' '.' '.' '.' '.' '#' '#']\n",
      " ['#' '#' '.' '#' '.' '#' '.' '#' '#']\n",
      " ['#' '#' '.' '.' '.' '.' '.' '#' '#']\n",
      " ['#' '#' '#' '#' '#' '#' '#' '#' '#']\n",
      " ['#' '#' '#' '#' '#' '#' '#' '#' '#']]\n",
      "[['#' '#' '#' '#' '#' '#' '#' '#' '#']\n",
      " ['#' '#' '#' '#' '#' '#' '#' '#' '#']\n",
      " ['#' '#' '.' '.' '1' '.' '.' '#' '#']\n",
      " ['#' '#' '.' '2' '.' '2' '.' '#' '#']\n",
      " ['#' '#' '.' '.' '.' '.' '.' '#' '#']\n",
      " ['#' '#' '.' '#' '.' '#' '.' '#' '#']\n",
      " ['#' '#' '.' '.' '.' '.' 'p' '#' '#']\n",
      " ['#' '#' '#' '#' '#' '#' '#' '#' '#']\n",
      " ['#' '#' '#' '#' '#' '#' '#' '#' '#']]\n",
      "\n",
      "\n"
     ]
    }
   ],
   "source": [
    "\n",
    "print(\"***************************ENCODED MAP****************************\")\n",
    "snowman_env.show_map(SnowmanEnvironment.ENCODED_TEXT_MODE)\n",
    "print(\"\\n\")\n",
    "print(\"***************************DECODED MAP****************************\")\n",
    "snowman_env.show_map(SnowmanEnvironment.DECODED_TEXT_MODE)\n",
    "snowman_env.randomize_agent_position()\n",
    "snowman_env.show_map(SnowmanEnvironment.DECODED_TEXT_MODE)\n",
    "print(\"\\n\")"
   ]
  },
  {
   "cell_type": "markdown",
   "metadata": {},
   "source": [
    "MAIN TRAINING LOOP"
   ]
  },
  {
   "cell_type": "code",
   "execution_count": 363,
   "metadata": {},
   "outputs": [],
   "source": [
    "episodes=100000\n",
    "jugades=50\n",
    "rewards = []\n",
    "rewards_per_jugada = []\n",
    "\n",
    "best_score = -100000\n",
    "tau_mode = False\n",
    "\n"
   ]
  },
  {
   "cell_type": "code",
   "execution_count": 364,
   "metadata": {},
   "outputs": [
    {
     "name": "stdout",
     "output_type": "stream",
     "text": [
      "Episode: 0, jugades 50, total_score: -136 , score: ['0', '0', '-2', '-10', '-2', '0', '-10', '0', '0', '-10', '20', '-1', '-1', '0', '-10', '0', '-10', '0', '-10', '0', '-2', '-2', '0', '-2', '0', '-10', '0', '-2', '-10', '0', '-2', '0', '-10', '0', '-2', '-2', '0', '-2', '-10', '-10', '-2', '-2', '-2', '0', '0', '-2', '-2', '-2', '-2', '-10'], best_score: 20 eps: 1.000    \n",
      "[['#' '#' '#' '#' '#' '#' '#' '#' '#']\n",
      " ['#' '#' '#' '#' '#' '#' '#' '#' '#']\n",
      " ['#' '#' '.' '.' '1' '.' '.' '#' '#']\n",
      " ['#' '#' '.' ',' '4' '2' '.' '#' '#']\n",
      " ['#' '#' '.' '.' '.' '.' '.' '#' '#']\n",
      " ['#' '#' '.' '#' '.' '#' '.' '#' '#']\n",
      " ['#' '#' '.' '.' '.' '.' 'p' '#' '#']\n",
      " ['#' '#' '#' '#' '#' '#' '#' '#' '#']\n",
      " ['#' '#' '#' '#' '#' '#' '#' '#' '#']]\n",
      "Episode: 10, jugades 32, total_score: -418 , score: ['0', '0', '-10', '0', '20', '-10', '0', '0', '-2', '-2', '-2', '0', '0', '0', '-10', '-2', '0', '-2', '-2', '-2', '0', '0', '-2', '-2', '-2', '0', '0', '-2', '-2', '-2', '-2', '-380'], best_score: 20 eps: 1.000    \n",
      "[['#' '#' '#' '#' '#' '#' '#' '#' '#']\n",
      " ['#' '#' '#' '#' '#' '#' '#' '#' '#']\n",
      " ['#' '#' '.' '4' '1' '4' '.' '#' '#']\n",
      " ['#' '#' '.' ',' '.' 'q' '.' '#' '#']\n",
      " ['#' '#' '.' '.' '.' '.' '.' '#' '#']\n",
      " ['#' '#' '.' '#' '.' '#' '.' '#' '#']\n",
      " ['#' '#' '.' '.' '.' '.' '.' '#' '#']\n",
      " ['#' '#' '#' '#' '#' '#' '#' '#' '#']\n",
      " ['#' '#' '#' '#' '#' '#' '#' '#' '#']]\n",
      "Episode: 20, jugades 5, total_score: -362 , score: ['0', '20', '-2', '0', '-380'], best_score: 20 eps: 1.000    \n",
      "[['#' '#' '#' '#' '#' '#' '#' '#' '#']\n",
      " ['#' '#' '#' '#' '#' '#' '#' '#' '#']\n",
      " ['#' '#' '.' '.' '1' '.' '.' '#' '#']\n",
      " ['#' '#' '4' 'q' '.' ',' '.' '#' '#']\n",
      " ['#' '#' '.' '.' '.' '4' '.' '#' '#']\n",
      " ['#' '#' '.' '#' '.' '#' '.' '#' '#']\n",
      " ['#' '#' '.' '.' '.' '.' '.' '#' '#']\n",
      " ['#' '#' '#' '#' '#' '#' '#' '#' '#']\n",
      " ['#' '#' '#' '#' '#' '#' '#' '#' '#']]\n",
      "Episode: 30, jugades 48, total_score: -540 , score: ['0', '-2', '-10', '-2', '-2', '-10', '20', '-10', '-10', '-10', '0', '0', '-2', '-10', '0', '-2', '-2', '-10', '-10', '-10', '-2', '-2', '0', '-2', '-2', '0', '-2', '-10', '-2', '-10', '-2', '-2', '0', '-10', '-2', '-10', '-10', '-2', '-2', '-2', '0', '-2', '0', '0', '0', '0', '-2', '-380'], best_score: 250 eps: 1.000    \n",
      "[['#' '#' '#' '#' '#' '#' '#' '#' '#']\n",
      " ['#' '#' '#' '#' '#' '#' '#' '#' '#']\n",
      " ['#' '#' '.' '.' '1' '4' '.' '#' '#']\n",
      " ['#' '#' '.' ',' '4' 'q' '.' '#' '#']\n",
      " ['#' '#' '.' '.' '.' '.' '.' '#' '#']\n",
      " ['#' '#' '.' '#' '.' '#' '.' '#' '#']\n",
      " ['#' '#' '.' '.' '.' '.' '.' '#' '#']\n",
      " ['#' '#' '#' '#' '#' '#' '#' '#' '#']\n",
      " ['#' '#' '#' '#' '#' '#' '#' '#' '#']]\n",
      "Episode: 40, jugades 25, total_score: -410 , score: ['0', '-2', '0', '-2', '0', '-10', '-2', '-2', '20', '0', '-2', '-2', '0', '-2', '-2', '-2', '-10', '-2', '0', '0', '0', '0', '-10', '0', '-380'], best_score: 250 eps: 1.000    \n",
      "[['#' '#' '#' '#' '#' '#' '#' '#' '#']\n",
      " ['#' '#' '#' '#' '#' '#' '#' '#' '#']\n",
      " ['#' '#' '.' '.' '1' '4' '.' '#' '#']\n",
      " ['#' '#' '.' ',' '4' 'q' '.' '#' '#']\n",
      " ['#' '#' '.' '.' '.' '.' '.' '#' '#']\n",
      " ['#' '#' '.' '#' '.' '#' '.' '#' '#']\n",
      " ['#' '#' '.' '.' '.' '.' '.' '#' '#']\n",
      " ['#' '#' '#' '#' '#' '#' '#' '#' '#']\n",
      " ['#' '#' '#' '#' '#' '#' '#' '#' '#']]\n",
      "Episode: 50, jugades 45, total_score: -480 , score: ['0', '20', '-10', '-2', '0', '-2', '-10', '0', '-2', '0', '0', '0', '-2', '-2', '0', '-2', '-10', '0', '-2', '-10', '-2', '-2', '0', '-1', '-10', '-10', '0', '-10', '-1', '0', '0', '0', '-2', '-2', '0', '-1', '-1', '-10', '-2', '-10', '0', '0', '0', '-2', '-380'], best_score: 250 eps: 1.000    \n",
      "[['#' '#' '#' '#' '#' '#' '#' '#' '#']\n",
      " ['#' '#' '#' '#' '#' '#' '#' '#' '#']\n",
      " ['#' '#' '.' '2' 'q' '.' '.' '#' '#']\n",
      " ['#' '#' '.' '2' '4' ',' '.' '#' '#']\n",
      " ['#' '#' '.' '.' '.' '.' '.' '#' '#']\n",
      " ['#' '#' '.' '#' '.' '#' '.' '#' '#']\n",
      " ['#' '#' '.' '.' '.' '.' '.' '#' '#']\n",
      " ['#' '#' '#' '#' '#' '#' '#' '#' '#']\n",
      " ['#' '#' '#' '#' '#' '#' '#' '#' '#']]\n",
      "Episode: 60, jugades 22, total_score: -422 , score: ['-2', '0', '-10', '-2', '-2', '-10', '0', '0', '-10', '-2', '20', '0', '-2', '0', '0', '0', '-2', '-10', '0', '-10', '0', '-380'], best_score: 250 eps: 1.000    \n",
      "[['#' '#' '#' '#' '#' '#' '#' '#' '#']\n",
      " ['#' '#' '#' '#' '#' '#' '#' '#' '#']\n",
      " ['#' '#' '.' '.' '1' '.' '.' '#' '#']\n",
      " ['#' '#' '.' 'q' '4' ',' '.' '#' '#']\n",
      " ['#' '#' '.' '.' '.' '4' '.' '#' '#']\n",
      " ['#' '#' '.' '#' '.' '#' '.' '#' '#']\n",
      " ['#' '#' '.' '.' '.' '.' '.' '#' '#']\n",
      " ['#' '#' '#' '#' '#' '#' '#' '#' '#']\n",
      " ['#' '#' '#' '#' '#' '#' '#' '#' '#']]\n",
      "Episode: 70, jugades 41, total_score: -486 , score: ['-2', '0', '-10', '0', '0', '-10', '0', '-10', '-10', '20', '0', '-2', '0', '-2', '-2', '-2', '0', '0', '-2', '-10', '0', '-10', '0', '-2', '0', '-2', '-10', '-2', '0', '0', '-2', '-2', '0', '-10', '-10', '0', '0', '-2', '-10', '-2', '-380'], best_score: 250 eps: 1.000    \n",
      "[['#' '#' '#' '#' '#' '#' '#' '#' '#']\n",
      " ['#' '#' '#' '#' '#' '#' '#' '#' '#']\n",
      " ['#' '#' '.' '4' '1' '4' '.' '#' '#']\n",
      " ['#' '#' '.' 'q' '.' ',' '.' '#' '#']\n",
      " ['#' '#' '.' '.' '.' '.' '.' '#' '#']\n",
      " ['#' '#' '.' '#' '.' '#' '.' '#' '#']\n",
      " ['#' '#' '.' '.' '.' '.' '.' '#' '#']\n",
      " ['#' '#' '#' '#' '#' '#' '#' '#' '#']\n",
      " ['#' '#' '#' '#' '#' '#' '#' '#' '#']]\n",
      "Episode: 80, jugades 32, total_score: -420 , score: ['-2', '-2', '0', '-2', '-2', '-10', '-10', '-2', '-10', '-2', '20', '0', '-2', '0', '0', '-2', '-10', '20', '-2', '-10', '0', '0', '0', '-10', '-10', '-2', '-10', '20', '0', '0', '0', '-380'], best_score: 250 eps: 1.000    \n",
      "[['#' '#' '#' '#' '#' '#' '#' '#' '#']\n",
      " ['#' '#' '#' '#' '#' '#' '#' '#' '#']\n",
      " ['#' '#' '.' '.' '1' '.' '.' '#' '#']\n",
      " ['#' '#' '.' ',' '.' 'q' '.' '#' '#']\n",
      " ['#' '#' ',' ',' '.' '4' '.' '#' '#']\n",
      " ['#' '#' '4' '#' '.' '#' '.' '#' '#']\n",
      " ['#' '#' '.' '.' '.' '.' '.' '#' '#']\n",
      " ['#' '#' '#' '#' '#' '#' '#' '#' '#']\n",
      " ['#' '#' '#' '#' '#' '#' '#' '#' '#']]\n",
      "Episode: 90, jugades 7, total_score: -362 , score: ['-2', '0', '0', '0', '20', '0', '-380'], best_score: 250 eps: 1.000    \n",
      "[['#' '#' '#' '#' '#' '#' '#' '#' '#']\n",
      " ['#' '#' '#' '#' '#' '#' '#' '#' '#']\n",
      " ['#' '#' '.' '4' '1' '.' '.' '#' '#']\n",
      " ['#' '#' '.' ',' '.' 'q' '4' '#' '#']\n",
      " ['#' '#' '.' '.' '.' '.' '.' '#' '#']\n",
      " ['#' '#' '.' '#' '.' '#' '.' '#' '#']\n",
      " ['#' '#' '.' '.' '.' '.' '.' '#' '#']\n",
      " ['#' '#' '#' '#' '#' '#' '#' '#' '#']\n",
      " ['#' '#' '#' '#' '#' '#' '#' '#' '#']]\n",
      "Episode: 100, jugades 29, total_score: -458 , score: ['0', '-10', '0', '0', '-2', '-2', '20', '0', '-2', '-10', '0', '0', '-2', '-2', '-10', '-2', '-2', '-2', '-10', '-2', '0', '-10', '-10', '-10', '-10', '0', '0', '0', '-380'], best_score: 250 eps: 1.000    \n",
      "[['#' '#' '#' '#' '#' '#' '#' '#' '#']\n",
      " ['#' '#' '#' '#' '#' '#' '#' '#' '#']\n",
      " ['#' '#' '.' '4' '1' '.' '.' '#' '#']\n",
      " ['#' '#' '.' 'q' '.' ',' '4' '#' '#']\n",
      " ['#' '#' '.' '.' '.' '.' '.' '#' '#']\n",
      " ['#' '#' '.' '#' '.' '#' '.' '#' '#']\n",
      " ['#' '#' '.' '.' '.' '.' '.' '#' '#']\n",
      " ['#' '#' '#' '#' '#' '#' '#' '#' '#']\n",
      " ['#' '#' '#' '#' '#' '#' '#' '#' '#']]\n",
      "Episode: 110, jugades 25, total_score: -382 , score: ['-2', '-2', '-2', '-2', '0', '0', '-2', '-10', '0', '-10', '-2', '0', '-2', '20', '0', '-2', '-2', '-2', '-2', '0', '0', '20', '0', '0', '-380'], best_score: 250 eps: 1.000    \n",
      "[['#' '#' '#' '#' '#' '#' '#' '#' '#']\n",
      " ['#' '#' '#' '#' '#' '#' '#' '#' '#']\n",
      " ['#' '#' '.' '.' 'q' '2' '.' '#' '#']\n",
      " ['#' '#' '.' ',' '.' '2' '.' '#' '#']\n",
      " ['#' '#' '4' ',' '.' '.' '.' '#' '#']\n",
      " ['#' '#' '.' '#' '.' '#' '.' '#' '#']\n",
      " ['#' '#' '.' '.' '.' '.' '.' '#' '#']\n",
      " ['#' '#' '#' '#' '#' '#' '#' '#' '#']\n",
      " ['#' '#' '#' '#' '#' '#' '#' '#' '#']]\n",
      "Episode: 120, jugades 14, total_score: -406 , score: ['-2', '-2', '-2', '-2', '-2', '-2', '0', '-10', '0', '0', '-2', '-2', '0', '-380'], best_score: 250 eps: 1.000    \n",
      "[['#' '#' '#' '#' '#' '#' '#' '#' '#']\n",
      " ['#' '#' '#' '#' '#' '#' '#' '#' '#']\n",
      " ['#' '#' '.' '2' 'q' '.' '.' '#' '#']\n",
      " ['#' '#' '.' '2' '.' '2' '.' '#' '#']\n",
      " ['#' '#' '.' '.' '.' '.' '.' '#' '#']\n",
      " ['#' '#' '.' '#' '.' '#' '.' '#' '#']\n",
      " ['#' '#' '.' '.' '.' '.' '.' '#' '#']\n",
      " ['#' '#' '#' '#' '#' '#' '#' '#' '#']\n",
      " ['#' '#' '#' '#' '#' '#' '#' '#' '#']]\n"
     ]
    }
   ],
   "source": [
    "    \n",
    "\n",
    "for episode in range(episodes):\n",
    "    state, info = snowman_env.reset()\n",
    "    if RANDOMIZE_AGENT_POSITION_EACH_EPISODE:\n",
    "        state, info = snowman_env.randomize_agent_position()\n",
    "    \n",
    "    #Convertim l'estat a un tensor. Fem unsqueeze perquè la xarxa neuronal s'espera un batch de mapes, i state es un sol mapa.\n",
    "    #Per tant li passem un batch de un sol mapa encapsulant en un array (o tensor)\n",
    "\n",
    "    #Separem les capes de l'estat (mapa) en una capa per cada tipus de casella:\n",
    "    #state = snowman_env.split_map_layers(state)\n",
    "    state_array = np.array(state, dtype=np.float32)\n",
    "    state = torch.tensor([state], dtype=torch.float32, device=device).unsqueeze(0)\n",
    "    rewards_string = []\n",
    "    act_rewards = []\n",
    "    nJuagades = 0\n",
    "    for jugada in range(jugades):\n",
    "        #if RANDOMIZE_AGENT_POSITION_EACH_EPISODE and jugada % 10 == 0:\n",
    "        #    state, info = snowman_env.randomize_agent_position()\n",
    "        #    state = torch.tensor([state], dtype=torch.float32, device=device).unsqueeze(0)\n",
    "\n",
    "        nJuagades = nJuagades+1\n",
    "        #Triem una accio segons la politica epsilon greedy\n",
    "        isRandom, action = training_agent.select_action_epsilon_greedy(state, snowman_env)\n",
    "        next_state, reward, done, _ = snowman_env.step(action.item())\n",
    "        act_rewards.append(reward)\n",
    "        rewards_per_jugada.append(reward)\n",
    "        rewards_string.append(str(reward) if isRandom else reward)\n",
    "        if reward >= best_score:\n",
    "            best_score = reward\n",
    "\n",
    "        #Conevrtim el reward a un tensor i el seguent state a un tensor, aixi ho guardem al replay_memory tot en tensors:\n",
    "        reward = torch.tensor([reward], device=device)\n",
    "        if done:\n",
    "            next_state = None\n",
    "        else:\n",
    "            #next_state = torch.tensor(snowman_env.split_map_layers(next_state), dtype=torch.float32, device=device).unsqueeze(0)\n",
    "            next_state = torch.tensor([next_state], dtype=torch.float32, device=device).unsqueeze(0)\n",
    "\n",
    "        \n",
    "        training_agent.replay_memory.push(state,action, next_state, reward)\n",
    "\n",
    "        #Anem al seguent estat\n",
    "        state = next_state\n",
    "\n",
    "        #OPTIMIZATION\n",
    "        training_agent.training_step()\n",
    "        \n",
    "\n",
    "\n",
    "       \n",
    "        \n",
    "        #print(\"epsilon: \",EPS_END + (EPS_START - EPS_END) * math.exp(-1. * training_agent.steps_done / EPS_DECAY))\n",
    "        #print(\"reward\", reward.item())\n",
    "        #snowman_env.show_map(SnowmanEnvironment.DECODED_TEXT_MODE)\n",
    "        if done:\n",
    "            break\n",
    "        #time.sleep(1)\n",
    "\n",
    "        #Soft update: Quan actualitzem els pesos, actualitzem el TAU % del pes enlloc de \n",
    "        #copiar totalment el pes de cada parametre per evitar variacions massives i millorar la estabilitat:\n",
    "        target_net_state_dict = training_agent.target_net.state_dict()\n",
    "        policy_net_state_dict = training_agent.policy_net.state_dict()\n",
    "\n",
    "        #per tant iterem per cada pes de la xarxa que volem actualitzar, i fem que el seu pes sigui un cert\n",
    "        # percentatge (TAU) de la xarxa objectiu més el restant (1-TAU) de la seva pròpia. Si TAU és 0.01,\n",
    "        #copia el 1% del pes de l'objectiu i conserva l'altre 99%\n",
    "        if tau_mode:\n",
    "            for key in policy_net_state_dict:\n",
    "                target_net_state_dict[key] = policy_net_state_dict[key]*TAU + target_net_state_dict[key]*(1-TAU)\n",
    "                training_agent.target_net.load_state_dict(target_net_state_dict)\n",
    "        else:\n",
    "            if episode % 50 == 0:\n",
    "                training_agent.target_net.load_state_dict(training_agent.policy_net.state_dict())\n",
    "        \n",
    "        \n",
    "    rewards.append(sum(act_rewards))\n",
    "    if episode % 10 == 0:\n",
    "        eps = EPS_END + (EPS_START - EPS_END) * math.exp(-1. * max(0,(training_agent.steps_done-training_agent.initial_random_steps)) / EPS_DECAY)\n",
    "        print(\"\\rEpisode: {}, jugades {}, total_score: {} , score: {}, best_score: {} eps: {:.3f}    \\n\".format(episode, nJuagades, sum(act_rewards), rewards_string, best_score, eps), end=\"\")\n",
    "        snowman_env.show_map(SnowmanEnvironment.DECODED_TEXT_MODE)\n",
    "\n",
    "\n",
    "            \n",
    "\n"
   ]
  },
  {
   "cell_type": "markdown",
   "metadata": {},
   "source": [
    "MOSTREM ELS RESULTATS (REWARDS)"
   ]
  },
  {
   "cell_type": "code",
   "execution_count": null,
   "metadata": {},
   "outputs": [
    {
     "data": {
      "image/png": "[encoded data removed]",
      "text/plain": [
       "<Figure size 800x400 with 1 Axes>"
      ]
     },
     "metadata": {},
     "output_type": "display_data"
    }
   ],
   "source": [
    "plt.figure(figsize=(8, 4))\n",
    "plt.plot(rewards)\n",
    "plt.xlabel(\"Episode\", fontsize=14)\n",
    "plt.ylabel(\"Sum of rewards\", fontsize=14)\n",
    "#save_fig(\"dqn_rewards_plot\")\n",
    "plt.show()"
   ]
  },
  {
   "cell_type": "code",
   "execution_count": null,
   "metadata": {},
   "outputs": [
    {
     "data": {
      "image/png": "[encoded data removed]",
      "text/plain": [
       "<Figure size 800x400 with 1 Axes>"
      ]
     },
     "metadata": {},
     "output_type": "display_data"
    }
   ],
   "source": [
    "plt.figure(figsize=(8, 4))\n",
    "plt.plot(rewards_per_jugada)\n",
    "plt.xlabel(\"Episode\", fontsize=14)\n",
    "plt.ylabel(\"Sum of rewards\", fontsize=14)\n",
    "#save_fig(\"dqn_rewards_plot\")\n",
    "plt.show()"
   ]
  },
  {
   "cell_type": "markdown",
   "metadata": {},
   "source": [
    "El mapa final:"
   ]
  },
  {
   "cell_type": "code",
   "execution_count": null,
   "metadata": {},
   "outputs": [
    {
     "name": "stdout",
     "output_type": "stream",
     "text": [
      "[[ 0.  0.  0.  0.  0.  0.  0.  0.  0.  0.  0.]\n",
      " [ 0.  0.  0.  0.  0.  0.  0.  0.  0.  0.  0.]\n",
      " [ 0.  0.  9.  9.  9.  9.  9.  0.  0.  0.  0.]\n",
      " [ 0.  0.  9.  0.  1.  0.  9.  0.  0.  0.  0.]\n",
      " [ 0.  0.  9.  1.  8. 11.  2.  0.  0.  0.  0.]\n",
      " [ 0.  0.  9.  0.  8.  0.  9.  0.  0.  0.  0.]\n",
      " [ 0.  0.  9.  9.  9.  9.  9.  0.  0.  0.  0.]\n",
      " [ 0.  0.  0.  0.  0.  0.  0.  0.  0.  0.  0.]\n",
      " [ 0.  0.  0.  0.  0.  0.  0.  0.  0.  0.  0.]]\n",
      "[['#' '#' '#' '#' '#' '#' '#' '#' '#' '' '']\n",
      " ['#' '#' '#' '#' '#' '#' '#' '#' '#' '' '']\n",
      " ['#' '#' '.' '.' '.' '.' '.' '#' '#' '' '']\n",
      " ['#' '#' '.' '#' '1' '#' '.' '#' '#' '' '']\n",
      " ['#' '#' '.' '1' ',' 'q' '2' '#' '#' '' '']\n",
      " ['#' '#' '.' '#' ',' '#' '.' '#' '#' '' '']\n",
      " ['#' '#' '.' '.' '.' '.' '.' '#' '#' '' '']\n",
      " ['#' '#' '#' '#' '#' '#' '#' '#' '#' '' '']\n",
      " ['#' '#' '#' '#' '#' '#' '#' '#' '#' '' '']]\n"
     ]
    }
   ],
   "source": [
    "snowman_env.show_map(SnowmanEnvironment.ENCODED_TEXT_MODE)\n",
    "snowman_env.show_map(SnowmanEnvironment.DECODED_TEXT_MODE)"
   ]
  },
  {
   "cell_type": "markdown",
   "metadata": {},
   "source": [
    "Guardem el model:"
   ]
  },
  {
   "cell_type": "code",
   "execution_count": null,
   "metadata": {},
   "outputs": [],
   "source": [
    "torch.save(training_agent.policy_net.state_dict(),save_path)"
   ]
  },
  {
   "cell_type": "markdown",
   "metadata": {},
   "source": [
    "Carreguem el model i inferim:"
   ]
  },
  {
   "cell_type": "code",
   "execution_count": null,
   "metadata": {},
   "outputs": [
    {
     "data": {
      "text/plain": [
       "DQN(\n",
       "  (conv1): Conv2d(1, 6, kernel_size=(5, 5), stride=(1, 1), padding=(2, 2))\n",
       "  (conv2): Conv2d(6, 12, kernel_size=(3, 3), stride=(1, 1), padding=(1, 1))\n",
       "  (linear1): Linear(in_features=1188, out_features=64, bias=True)\n",
       "  (linear2): Linear(in_features=64, out_features=4, bias=True)\n",
       ")"
      ]
     },
     "execution_count": 192,
     "metadata": {},
     "output_type": "execute_result"
    }
   ],
   "source": [
    "inferenceModel = DQN(1,n_actions, map_rows, map_cols).to(device)\n",
    "inferenceModel.load_state_dict(torch.load(save_path))\n",
    "inferenceModel.eval()"
   ]
  },
  {
   "cell_type": "code",
   "execution_count": null,
   "metadata": {},
   "outputs": [
    {
     "name": "stdout",
     "output_type": "stream",
     "text": [
      "setting agent position to  5 4\n",
      "[['#' '#' '#' '#' '#' '#' '#' '#' '#' '' '']\n",
      " ['#' '#' '#' '#' '#' '#' '#' '#' '#' '' '']\n",
      " ['#' '#' '.' '.' '.' '.' '.' '#' '#' '' '']\n",
      " ['#' '#' '.' '#' '1' '#' '.' '#' '#' '' '']\n",
      " ['#' '#' '.' '1' 'q' '1' '.' '#' '#' '' '']\n",
      " ['#' '#' '.' '#' ',' '#' '.' '#' '#' '' '']\n",
      " ['#' '#' '.' '.' '.' '.' '.' '#' '#' '' '']\n",
      " ['#' '#' '#' '#' '#' '#' '#' '#' '#' '' '']\n",
      " ['#' '#' '#' '#' '#' '#' '#' '#' '#' '' '']]\n",
      "\n",
      "\n",
      "[['#' '#' '#' '#' '#' '#' '#' '#' '#' '' '']\n",
      " ['#' '#' '#' '#' '#' '#' '#' '#' '#' '' '']\n",
      " ['#' '#' '.' '.' '.' '.' '.' '#' '#' '' '']\n",
      " ['#' '#' '.' '#' '1' '#' '.' '#' '#' '' '']\n",
      " ['#' '#' '.' '1' ',' '1' '.' '#' '#' '' '']\n",
      " ['#' '#' '.' '#' 'q' '#' '.' '#' '#' '' '']\n",
      " ['#' '#' '.' '.' '.' '.' '.' '#' '#' '' '']\n",
      " ['#' '#' '#' '#' '#' '#' '#' '#' '#' '' '']\n",
      " ['#' '#' '#' '#' '#' '#' '#' '#' '#' '' '']]\n",
      "\n",
      "\n",
      "[['#' '#' '#' '#' '#' '#' '#' '#' '#' '' '']\n",
      " ['#' '#' '#' '#' '#' '#' '#' '#' '#' '' '']\n",
      " ['#' '#' '.' '.' '.' '.' '.' '#' '#' '' '']\n",
      " ['#' '#' '.' '#' '1' '#' '.' '#' '#' '' '']\n",
      " ['#' '#' '.' '1' 'q' '1' '.' '#' '#' '' '']\n",
      " ['#' '#' '.' '#' ',' '#' '.' '#' '#' '' '']\n",
      " ['#' '#' '.' '.' '.' '.' '.' '#' '#' '' '']\n",
      " ['#' '#' '#' '#' '#' '#' '#' '#' '#' '' '']\n",
      " ['#' '#' '#' '#' '#' '#' '#' '#' '#' '' '']]\n",
      "\n",
      "\n",
      "[['#' '#' '#' '#' '#' '#' '#' '#' '#' '' '']\n",
      " ['#' '#' '#' '#' '#' '#' '#' '#' '#' '' '']\n",
      " ['#' '#' '.' '.' '.' '.' '.' '#' '#' '' '']\n",
      " ['#' '#' '.' '#' '1' '#' '.' '#' '#' '' '']\n",
      " ['#' '#' '.' '1' ',' '1' '.' '#' '#' '' '']\n",
      " ['#' '#' '.' '#' 'q' '#' '.' '#' '#' '' '']\n",
      " ['#' '#' '.' '.' '.' '.' '.' '#' '#' '' '']\n",
      " ['#' '#' '#' '#' '#' '#' '#' '#' '#' '' '']\n",
      " ['#' '#' '#' '#' '#' '#' '#' '#' '#' '' '']]\n",
      "\n",
      "\n"
     ]
    },
    {
     "ename": "KeyboardInterrupt",
     "evalue": "",
     "output_type": "error",
     "traceback": [
      "\u001b[1;31m---------------------------------------------------------------------------\u001b[0m",
      "\u001b[1;31mKeyboardInterrupt\u001b[0m                         Traceback (most recent call last)",
      "\u001b[1;32m~\\AppData\\Local\\Temp\\ipykernel_30728\\2039167606.py\u001b[0m in \u001b[0;36m<module>\u001b[1;34m\u001b[0m\n\u001b[0;32m     10\u001b[0m     \u001b[0minferenceEnvironment\u001b[0m\u001b[1;33m.\u001b[0m\u001b[0mshow_map\u001b[0m\u001b[1;33m(\u001b[0m\u001b[0mSnowmanEnvironment\u001b[0m\u001b[1;33m.\u001b[0m\u001b[0mDECODED_TEXT_MODE\u001b[0m\u001b[1;33m)\u001b[0m\u001b[1;33m\u001b[0m\u001b[1;33m\u001b[0m\u001b[0m\n\u001b[0;32m     11\u001b[0m     \u001b[0mprint\u001b[0m\u001b[1;33m(\u001b[0m\u001b[1;34m'\\n'\u001b[0m\u001b[1;33m)\u001b[0m\u001b[1;33m\u001b[0m\u001b[1;33m\u001b[0m\u001b[0m\n\u001b[1;32m---> 12\u001b[1;33m     \u001b[0mtime\u001b[0m\u001b[1;33m.\u001b[0m\u001b[0msleep\u001b[0m\u001b[1;33m(\u001b[0m\u001b[1;36m3\u001b[0m\u001b[1;33m)\u001b[0m\u001b[1;33m\u001b[0m\u001b[1;33m\u001b[0m\u001b[0m\n\u001b[0m\u001b[0;32m     13\u001b[0m \u001b[1;33m\u001b[0m\u001b[0m\n",
      "\u001b[1;31mKeyboardInterrupt\u001b[0m: "
     ]
    }
   ],
   "source": [
    "\n",
    "inferenceEnvironment = SnowmanEnvironment(map_path, map_rows, map_cols)\n",
    "done = False\n",
    "max_steps = 100\n",
    "steps = 0\n",
    "while(not done and steps < max_steps):\n",
    "    state = inferenceEnvironment.map\n",
    "    state = torch.tensor([state], dtype=torch.float32, device=device).unsqueeze(0)\n",
    "    action = inferenceModel(state).max(1).indices.view(1, 1)\n",
    "    _, _, done, _ = inferenceEnvironment.step(action)\n",
    "    inferenceEnvironment.show_map(SnowmanEnvironment.DECODED_TEXT_MODE)\n",
    "    print('\\n')\n",
    "    time.sleep(3)\n",
    "\n"
   ]
  },
  {
   "cell_type": "code",
   "execution_count": null,
   "metadata": {},
   "outputs": [
    {
     "name": "stdout",
     "output_type": "stream",
     "text": [
      "setting agent position to  5 4\n",
      "(5, 4)\n",
      "[['#' '#' '#' '#' '#' '#' '#' '#' '#' '' '']\n",
      " ['#' '#' '#' '#' '#' '#' '#' '#' '#' '' '']\n",
      " ['#' '#' '.' '.' '.' '.' '.' '#' '#' '' '']\n",
      " ['#' '#' '.' '#' ',' '#' '.' '#' '#' '' '']\n",
      " ['#' '#' '.' '1' '1' '1' '.' '#' '#' '' '']\n",
      " ['#' '#' '.' '#' 'q' '#' '.' '#' '#' '' '']\n",
      " ['#' '#' '.' '.' '.' '.' '.' '#' '#' '' '']\n",
      " ['#' '#' '#' '#' '#' '#' '#' '#' '#' '' '']\n",
      " ['#' '#' '#' '#' '#' '#' '#' '#' '#' '' '']]\n",
      "0\n",
      "(5, 4)\n",
      "****************************************************************\n",
      "next_cell [4, 4]\n",
      "next_of_next_cell [3, 4]\n",
      "snowball_in_next_cell True\n",
      "grass_or_snow_in_next_of_next_cell True\n",
      "snowball_x, snowball_2 3 4\n",
      "boolean test 1.0\n",
      "has_horitzontal_cap True\n",
      "has_vertical_cap False\n",
      "[['#' '#' '#' '#' '#' '#' '#' '#' '#' '' '']\n",
      " ['#' '#' '#' '#' '#' '#' '#' '#' '#' '' '']\n",
      " ['#' '#' '.' '.' '.' '.' '.' '#' '#' '' '']\n",
      " ['#' '#' '.' '#' '1' '#' '.' '#' '#' '' '']\n",
      " ['#' '#' '.' '1' 'q' '1' '.' '#' '#' '' '']\n",
      " ['#' '#' '.' '#' ',' '#' '.' '#' '#' '' '']\n",
      " ['#' '#' '.' '.' '.' '.' '.' '#' '#' '' '']\n",
      " ['#' '#' '#' '#' '#' '#' '#' '#' '#' '' '']\n",
      " ['#' '#' '#' '#' '#' '#' '#' '#' '#' '' '']]\n"
     ]
    }
   ],
   "source": [
    "\n",
    "from environments.SnowmanEnvironment import SnowmanEnvironment\n",
    "snowman_env_test = SnowmanEnvironment(map_file='./Dades/test.txt', \n",
    "                                 n=9, m=11, \n",
    "                                 stop_when_error=True, \n",
    "                                 stop_when_dumb=True, \n",
    "                                 enable_step_back_optimzation=True, \n",
    "                                 enable_blocked_snowman_optimization=True)\n",
    "print(snowman_env_test.agent_position)\n",
    "snowman_env_test.show_map(SnowmanEnvironment.DECODED_TEXT_MODE)\n",
    "#snowman_env_test.previous_agent_position = (2,6)\n",
    "#snowman_env_test.agent_position = (2,6)\n",
    "#a = snowman_env_test.adjust_reward(0,[5,4],[4,4])\n",
    "print(a)\n",
    "print(snowman_env_test.agent_position)\n",
    "print(\"****************************************************************\")\n",
    "snowman_env_test.step(3)\n",
    "snowman_env_test.show_map(SnowmanEnvironment.DECODED_TEXT_MODE)\n",
    "\n",
    "\n"
   ]
  }
 ],
 "metadata": {
  "kernelspec": {
   "display_name": "base",
   "language": "python",
   "name": "python3"
  },
  "language_info": {
   "codemirror_mode": {
    "name": "ipython",
    "version": 3
   },
   "file_extension": ".py",
   "mimetype": "text/x-python",
   "name": "python",
   "nbconvert_exporter": "python",
   "pygments_lexer": "ipython3",
   "version": "3.9.13"
  }
 },
 "nbformat": 4,
 "nbformat_minor": 2
}
