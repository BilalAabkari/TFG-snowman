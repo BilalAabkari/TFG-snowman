{
 "cells": [
  {
   "cell_type": "code",
   "execution_count": 252,
   "metadata": {},
   "outputs": [
    {
     "name": "stdout",
     "output_type": "stream",
     "text": [
      "The autoreload extension is already loaded. To reload it, use:\n",
      "  %reload_ext autoreload\n"
     ]
    }
   ],
   "source": [
    "%load_ext autoreload\n",
    "%autoreload 2\n",
    "\n",
    "\n",
    "\n",
    "\n",
    "        "
   ]
  },
  {
   "cell_type": "code",
   "execution_count": 253,
   "metadata": {},
   "outputs": [
    {
     "name": "stdout",
     "output_type": "stream",
     "text": [
      "The model will be trained with cuda\n"
     ]
    }
   ],
   "source": [
    "import numpy as np\n",
    "import random\n",
    "import time\n",
    "import torch\n",
    "import torch.nn as nn\n",
    "import torch.optim as optim\n",
    "import torch.nn.functional as F\n",
    "import matplotlib.pyplot as plt\n",
    "import math\n",
    "\n",
    "np.random.seed(13)\n",
    "torch.manual_seed(13)\n",
    "\n",
    "plt.ion()\n",
    "device = torch.device(\"cuda\" if torch.cuda.is_available() else \"cpu\")\n",
    "print(\"The model will be trained with\", device)\n",
    "\n"
   ]
  },
  {
   "cell_type": "code",
   "execution_count": null,
   "metadata": {},
   "outputs": [],
   "source": []
  },
  {
   "cell_type": "code",
   "execution_count": 254,
   "metadata": {},
   "outputs": [
    {
     "name": "stdout",
     "output_type": "stream",
     "text": [
      "The model will be trained with cuda\n"
     ]
    }
   ],
   "source": [
    "device = torch.device(\"cuda\" if torch.cuda.is_available() else \"cpu\")\n",
    "print(\"The model will be trained with\", device)\n",
    "\n"
   ]
  },
  {
   "cell_type": "code",
   "execution_count": 255,
   "metadata": {},
   "outputs": [],
   "source": [
    "from environments.SnowmanEnvironment import SnowmanEnvironment\n",
    "map_path = './Dades/andy.txt'\n",
    "save_path = './trainedModels/andy.pt'\n"
   ]
  },
  {
   "cell_type": "code",
   "execution_count": 256,
   "metadata": {},
   "outputs": [
    {
     "name": "stdout",
     "output_type": "stream",
     "text": [
      "n,m:  9 9\n",
      "setting agent position to  4 4\n"
     ]
    }
   ],
   "source": [
    "map_rows=9\n",
    "map_cols=9\n",
    "n_actions = 4 #Modifica quan implementi gym\n",
    "\n",
    "snowman_env = SnowmanEnvironment(map_file=map_path, \n",
    "                                 n=map_rows, m=map_cols,\n",
    "                                 preprocess_mode=SnowmanEnvironment.NO_PREPROCESS,\n",
    "                                 enable_step_back_optimzation=False, \n",
    "                                 enable_blocked_snowman_optimization=False,\n",
    "                                 enable_snowball_number_optimization=False,\n",
    "                                 enable_snowball_distances_optimization=False,\n",
    "                                 enable_visited_cells_optimization=False)\n"
   ]
  },
  {
   "cell_type": "code",
   "execution_count": 257,
   "metadata": {},
   "outputs": [],
   "source": [
    "from utils.ReplayMemory import ReplayMemory\n",
    "from utils.ReplayMemory import Transition\n",
    "memory = ReplayMemory(10000)"
   ]
  },
  {
   "cell_type": "code",
   "execution_count": 258,
   "metadata": {},
   "outputs": [
    {
     "data": {
      "text/plain": [
       "<All keys matched successfully>"
      ]
     },
     "execution_count": 258,
     "metadata": {},
     "output_type": "execute_result"
    }
   ],
   "source": [
    "from neuralNests.ConvNet_v1 import DQN\n",
    "from ICM.components import Encoder\n",
    "from ICM.components import InverseModel\n",
    "from ICM.components import ForwardModel\n",
    "\n",
    "policy_net = DQN(snowman_env.layers, n_actions, map_rows, map_cols).to(device)\n",
    "target_net = DQN(snowman_env.layers, n_actions, map_rows, map_cols).to(device)\n",
    "\n",
    "encoder = Encoder(snowman_env.layers, map_rows, map_cols, 50).to(device)\n",
    "inverse_model = InverseModel(50, n_actions).to(device)\n",
    "forward_model = ForwardModel(50,n_actions).to(device)\n",
    "\n",
    "forward_loss=nn.MSELoss(reduction='none')\n",
    "inverse_loss = nn.CrossEntropyLoss(reduction='none')\n",
    "all_model_params = list(policy_net.parameters()) + list(encoder.parameters()) + list(forward_model.parameters())  + list(inverse_model.parameters()) \n",
    "\n",
    "target_net.load_state_dict(policy_net.state_dict())\n",
    "\n"
   ]
  },
  {
   "cell_type": "code",
   "execution_count": 259,
   "metadata": {},
   "outputs": [],
   "source": [
    "from trainingAgents.SnowmanTrainingAgent import TrainingAgent\n",
    "\n",
    "BATCH_SIZE = 256 #mida del batch del replay\n",
    "GAMMA = 0.2 #factor de descompte de les recompeses futures\n",
    "EPS_START = 1 #valor inicial de la epsilon per la epsilon greedy policy\n",
    "EPS_END = 0.05 #valor final de la epsilon per la epsilon greedy policy\n",
    "EPS_DECAY = 1000 #controla la caiguda expoencial del valor epsilon, com més alt, mes lent disminueix\n",
    "TAU = 0.001 #controla cada quan s'actualitza la target network\n",
    "LR = 1e-4 #Learning rate de l'optimitzador\n",
    "RANDOMIZE_AGENT_POSITION_EACH_EPISODE = False\n",
    "\n",
    "INITIAL_RANDOM_STEPS = 0\n",
    "tau_mode = False\n",
    "\n",
    "\n",
    "USE_EXPLICIT = True\n",
    "ETA = 1\n",
    "BETA = 0.8\n",
    "LAMBDA = 0.1\n"
   ]
  },
  {
   "cell_type": "code",
   "execution_count": 260,
   "metadata": {},
   "outputs": [],
   "source": [
    "debug_mode = False"
   ]
  },
  {
   "cell_type": "code",
   "execution_count": 261,
   "metadata": {},
   "outputs": [],
   "source": [
    "optimizer = optim.AdamW(all_model_params, lr=LR, amsgrad=True)\n",
    "training_agent = TrainingAgent(policy_net, \n",
    "                               target_net, \n",
    "                               optimizer, \n",
    "                               memory, \n",
    "                               EPS_END, \n",
    "                               EPS_START, \n",
    "                               EPS_DECAY, \n",
    "                               GAMMA, \n",
    "                               BATCH_SIZE, \n",
    "                               ETA, \n",
    "                               BETA,\n",
    "                               LAMBDA,\n",
    "                               USE_EXPLICIT, \n",
    "                               INITIAL_RANDOM_STEPS,\n",
    "                               device, \n",
    "                               encoder, \n",
    "                               forward_model, \n",
    "                               inverse_model, \n",
    "                               inverse_loss, \n",
    "                               forward_loss)"
   ]
  },
  {
   "cell_type": "markdown",
   "metadata": {},
   "source": [
    "MAIN TRAINING LOOP"
   ]
  },
  {
   "cell_type": "code",
   "execution_count": 262,
   "metadata": {},
   "outputs": [],
   "source": [
    "episodes=100000\n",
    "jugades=50\n",
    "rewards = []\n",
    "rewards_per_jugada = []\n",
    "intrinsic_rewards = []\n",
    "best_score = -100000"
   ]
  },
  {
   "cell_type": "code",
   "execution_count": 264,
   "metadata": {},
   "outputs": [
    {
     "name": "stderr",
     "output_type": "stream",
     "text": [
      "c:\\Users\\bilal\\OneDrive\\Escritorio\\Bilal\\1.Universitat\\4t curs\\TFG\\TFG-snowman\\ICM\\components.py:40: UserWarning: Implicit dimension choice for softmax has been deprecated. Change the call to include dim=X as an argument.\n",
      "  x = F.softmax(self.linear2(x))\n"
     ]
    },
    {
     "name": "stdout",
     "output_type": "stream",
     "text": [
      "epsilon:  0.05000040261168739\n",
      "reward 0\n",
      "[['#' '#' '#' '#' '#' '#' '#' '#' '#']\n",
      " ['#' '#' '#' '#' '#' '#' '#' '#' '#']\n",
      " ['#' '#' '.' '.' '.' '.' '.' '#' '#']\n",
      " ['#' '#' '.' '1' '.' '1' ',' '#' '#']\n",
      " ['#' '#' '.' '.' '.' ',' ',' '#' '#']\n",
      " ['#' '#' '.' '1' 'q' ',' ',' '#' '#']\n",
      " ['#' '#' ',' ',' ',' '.' '.' '#' '#']\n",
      " ['#' '#' '#' '#' '#' '#' '#' '#' '#']\n",
      " ['#' '#' '#' '#' '#' '#' '#' '#' '#']]\n",
      "epsilon:  0.05000040220927694\n",
      "reward 0\n",
      "[['#' '#' '#' '#' '#' '#' '#' '#' '#']\n",
      " ['#' '#' '#' '#' '#' '#' '#' '#' '#']\n",
      " ['#' '#' '.' '.' '.' '.' '.' '#' '#']\n",
      " ['#' '#' '.' '1' '.' '1' ',' '#' '#']\n",
      " ['#' '#' '.' '.' '.' ',' ',' '#' '#']\n",
      " ['#' '#' '.' '1' ',' ',' ',' '#' '#']\n",
      " ['#' '#' ',' ',' 'q' '.' '.' '#' '#']\n",
      " ['#' '#' '#' '#' '#' '#' '#' '#' '#']\n",
      " ['#' '#' '#' '#' '#' '#' '#' '#' '#']]\n",
      "epsilon:  0.0500004018072687\n",
      "reward 0\n",
      "[['#' '#' '#' '#' '#' '#' '#' '#' '#']\n",
      " ['#' '#' '#' '#' '#' '#' '#' '#' '#']\n",
      " ['#' '#' '.' '.' '.' '.' '.' '#' '#']\n",
      " ['#' '#' '.' '1' '.' '1' ',' '#' '#']\n",
      " ['#' '#' '.' '.' '.' ',' ',' '#' '#']\n",
      " ['#' '#' '.' '1' ',' ',' ',' '#' '#']\n",
      " ['#' '#' ',' 'q' ',' '.' '.' '#' '#']\n",
      " ['#' '#' '#' '#' '#' '#' '#' '#' '#']\n",
      " ['#' '#' '#' '#' '#' '#' '#' '#' '#']]\n",
      "epsilon:  0.05000040140566227\n",
      "reward 0\n",
      "[['#' '#' '#' '#' '#' '#' '#' '#' '#']\n",
      " ['#' '#' '#' '#' '#' '#' '#' '#' '#']\n",
      " ['#' '#' '.' '.' '.' '.' '.' '#' '#']\n",
      " ['#' '#' '.' '1' '.' '1' ',' '#' '#']\n",
      " ['#' '#' '.' '2' '.' ',' ',' '#' '#']\n",
      " ['#' '#' '.' 'q' ',' ',' ',' '#' '#']\n",
      " ['#' '#' ',' ',' ',' '.' '.' '#' '#']\n",
      " ['#' '#' '#' '#' '#' '#' '#' '#' '#']\n",
      " ['#' '#' '#' '#' '#' '#' '#' '#' '#']]\n",
      "epsilon:  0.05000040100445725\n",
      "reward 0\n",
      "[['#' '#' '#' '#' '#' '#' '#' '#' '#']\n",
      " ['#' '#' '#' '#' '#' '#' '#' '#' '#']\n",
      " ['#' '#' '.' '.' '.' '.' '.' '#' '#']\n",
      " ['#' '#' '.' '1' '.' '1' ',' '#' '#']\n",
      " ['#' '#' '.' '2' '.' ',' ',' '#' '#']\n",
      " ['#' '#' 'p' ',' ',' ',' ',' '#' '#']\n",
      " ['#' '#' ',' ',' ',' '.' '.' '#' '#']\n",
      " ['#' '#' '#' '#' '#' '#' '#' '#' '#']\n",
      " ['#' '#' '#' '#' '#' '#' '#' '#' '#']]\n",
      "epsilon:  0.050000400603653225\n",
      "reward 0\n",
      "[['#' '#' '#' '#' '#' '#' '#' '#' '#']\n",
      " ['#' '#' '#' '#' '#' '#' '#' '#' '#']\n",
      " ['#' '#' '.' '.' '.' '.' '.' '#' '#']\n",
      " ['#' '#' '.' '1' '.' '1' ',' '#' '#']\n",
      " ['#' '#' 'p' '2' '.' ',' ',' '#' '#']\n",
      " ['#' '#' '.' ',' ',' ',' ',' '#' '#']\n",
      " ['#' '#' ',' ',' ',' '.' '.' '#' '#']\n",
      " ['#' '#' '#' '#' '#' '#' '#' '#' '#']\n",
      " ['#' '#' '#' '#' '#' '#' '#' '#' '#']]\n",
      "epsilon:  0.050000400203249806\n",
      "reward 0\n",
      "[['#' '#' '#' '#' '#' '#' '#' '#' '#']\n",
      " ['#' '#' '#' '#' '#' '#' '#' '#' '#']\n",
      " ['#' '#' '.' '.' '.' '.' '.' '#' '#']\n",
      " ['#' '#' 'p' '1' '.' '1' ',' '#' '#']\n",
      " ['#' '#' '.' '2' '.' ',' ',' '#' '#']\n",
      " ['#' '#' '.' ',' ',' ',' ',' '#' '#']\n",
      " ['#' '#' ',' ',' ',' '.' '.' '#' '#']\n",
      " ['#' '#' '#' '#' '#' '#' '#' '#' '#']\n",
      " ['#' '#' '#' '#' '#' '#' '#' '#' '#']]\n",
      "epsilon:  0.05000039980324659\n",
      "reward 0\n",
      "[['#' '#' '#' '#' '#' '#' '#' '#' '#']\n",
      " ['#' '#' '#' '#' '#' '#' '#' '#' '#']\n",
      " ['#' '#' 'p' '.' '.' '.' '.' '#' '#']\n",
      " ['#' '#' '.' '1' '.' '1' ',' '#' '#']\n",
      " ['#' '#' '.' '2' '.' ',' ',' '#' '#']\n",
      " ['#' '#' '.' ',' ',' ',' ',' '#' '#']\n",
      " ['#' '#' ',' ',' ',' '.' '.' '#' '#']\n",
      " ['#' '#' '#' '#' '#' '#' '#' '#' '#']\n",
      " ['#' '#' '#' '#' '#' '#' '#' '#' '#']]\n",
      "epsilon:  0.050000399403643175\n",
      "reward 0\n",
      "[['#' '#' '#' '#' '#' '#' '#' '#' '#']\n",
      " ['#' '#' '#' '#' '#' '#' '#' '#' '#']\n",
      " ['#' '#' '.' 'p' '.' '.' '.' '#' '#']\n",
      " ['#' '#' '.' '1' '.' '1' ',' '#' '#']\n",
      " ['#' '#' '.' '2' '.' ',' ',' '#' '#']\n",
      " ['#' '#' '.' ',' ',' ',' ',' '#' '#']\n",
      " ['#' '#' ',' ',' ',' '.' '.' '#' '#']\n",
      " ['#' '#' '#' '#' '#' '#' '#' '#' '#']\n",
      " ['#' '#' '#' '#' '#' '#' '#' '#' '#']]\n",
      "epsilon:  0.05000039900443917\n",
      "reward 0\n",
      "[['#' '#' '#' '#' '#' '#' '#' '#' '#']\n",
      " ['#' '#' '#' '#' '#' '#' '#' '#' '#']\n",
      " ['#' '#' 'p' '.' '.' '.' '.' '#' '#']\n",
      " ['#' '#' '.' '1' '.' '1' ',' '#' '#']\n",
      " ['#' '#' '.' '2' '.' ',' ',' '#' '#']\n",
      " ['#' '#' '.' ',' ',' ',' ',' '#' '#']\n",
      " ['#' '#' ',' ',' ',' '.' '.' '#' '#']\n",
      " ['#' '#' '#' '#' '#' '#' '#' '#' '#']\n",
      " ['#' '#' '#' '#' '#' '#' '#' '#' '#']]\n",
      "epsilon:  0.05000039860563417\n",
      "reward 0\n",
      "[['#' '#' '#' '#' '#' '#' '#' '#' '#']\n",
      " ['#' '#' '#' '#' '#' '#' '#' '#' '#']\n",
      " ['#' '#' '.' 'p' '.' '.' '.' '#' '#']\n",
      " ['#' '#' '.' '1' '.' '1' ',' '#' '#']\n",
      " ['#' '#' '.' '2' '.' ',' ',' '#' '#']\n",
      " ['#' '#' '.' ',' ',' ',' ',' '#' '#']\n",
      " ['#' '#' ',' ',' ',' '.' '.' '#' '#']\n",
      " ['#' '#' '#' '#' '#' '#' '#' '#' '#']\n",
      " ['#' '#' '#' '#' '#' '#' '#' '#' '#']]\n",
      "epsilon:  0.05000039820722777\n",
      "reward 0\n",
      "[['#' '#' '#' '#' '#' '#' '#' '#' '#']\n",
      " ['#' '#' '#' '#' '#' '#' '#' '#' '#']\n",
      " ['#' '#' '.' '.' 'p' '.' '.' '#' '#']\n",
      " ['#' '#' '.' '1' '.' '1' ',' '#' '#']\n",
      " ['#' '#' '.' '2' '.' ',' ',' '#' '#']\n",
      " ['#' '#' '.' ',' ',' ',' ',' '#' '#']\n",
      " ['#' '#' ',' ',' ',' '.' '.' '#' '#']\n",
      " ['#' '#' '#' '#' '#' '#' '#' '#' '#']\n",
      " ['#' '#' '#' '#' '#' '#' '#' '#' '#']]\n",
      "epsilon:  0.050000397809219575\n",
      "reward 0\n",
      "[['#' '#' '#' '#' '#' '#' '#' '#' '#']\n",
      " ['#' '#' '#' '#' '#' '#' '#' '#' '#']\n",
      " ['#' '#' '.' 'p' '.' '.' '.' '#' '#']\n",
      " ['#' '#' '.' '1' '.' '1' ',' '#' '#']\n",
      " ['#' '#' '.' '2' '.' ',' ',' '#' '#']\n",
      " ['#' '#' '.' ',' ',' ',' ',' '#' '#']\n",
      " ['#' '#' ',' ',' ',' '.' '.' '#' '#']\n",
      " ['#' '#' '#' '#' '#' '#' '#' '#' '#']\n",
      " ['#' '#' '#' '#' '#' '#' '#' '#' '#']]\n",
      "epsilon:  0.05000039741160919\n",
      "reward 0\n",
      "[['#' '#' '#' '#' '#' '#' '#' '#' '#']\n",
      " ['#' '#' '#' '#' '#' '#' '#' '#' '#']\n",
      " ['#' '#' 'p' '.' '.' '.' '.' '#' '#']\n",
      " ['#' '#' '.' '1' '.' '1' ',' '#' '#']\n",
      " ['#' '#' '.' '2' '.' ',' ',' '#' '#']\n",
      " ['#' '#' '.' ',' ',' ',' ',' '#' '#']\n",
      " ['#' '#' ',' ',' ',' '.' '.' '#' '#']\n",
      " ['#' '#' '#' '#' '#' '#' '#' '#' '#']\n",
      " ['#' '#' '#' '#' '#' '#' '#' '#' '#']]\n",
      "epsilon:  0.05000039701439623\n",
      "reward 0\n",
      "[['#' '#' '#' '#' '#' '#' '#' '#' '#']\n",
      " ['#' '#' '#' '#' '#' '#' '#' '#' '#']\n",
      " ['#' '#' '.' 'p' '.' '.' '.' '#' '#']\n",
      " ['#' '#' '.' '1' '.' '1' ',' '#' '#']\n",
      " ['#' '#' '.' '2' '.' ',' ',' '#' '#']\n",
      " ['#' '#' '.' ',' ',' ',' ',' '#' '#']\n",
      " ['#' '#' ',' ',' ',' '.' '.' '#' '#']\n",
      " ['#' '#' '#' '#' '#' '#' '#' '#' '#']\n",
      " ['#' '#' '#' '#' '#' '#' '#' '#' '#']]\n",
      "epsilon:  0.050000396617580274\n",
      "reward 0\n",
      "[['#' '#' '#' '#' '#' '#' '#' '#' '#']\n",
      " ['#' '#' '#' '#' '#' '#' '#' '#' '#']\n",
      " ['#' '#' 'p' '.' '.' '.' '.' '#' '#']\n",
      " ['#' '#' '.' '1' '.' '1' ',' '#' '#']\n",
      " ['#' '#' '.' '2' '.' ',' ',' '#' '#']\n",
      " ['#' '#' '.' ',' ',' ',' ',' '#' '#']\n",
      " ['#' '#' ',' ',' ',' '.' '.' '#' '#']\n",
      " ['#' '#' '#' '#' '#' '#' '#' '#' '#']\n",
      " ['#' '#' '#' '#' '#' '#' '#' '#' '#']]\n",
      "epsilon:  0.05000039622116093\n",
      "reward 0\n",
      "[['#' '#' '#' '#' '#' '#' '#' '#' '#']\n",
      " ['#' '#' '#' '#' '#' '#' '#' '#' '#']\n",
      " ['#' '#' '.' '.' '.' '.' '.' '#' '#']\n",
      " ['#' '#' 'p' '1' '.' '1' ',' '#' '#']\n",
      " ['#' '#' '.' '2' '.' ',' ',' '#' '#']\n",
      " ['#' '#' '.' ',' ',' ',' ',' '#' '#']\n",
      " ['#' '#' ',' ',' ',' '.' '.' '#' '#']\n",
      " ['#' '#' '#' '#' '#' '#' '#' '#' '#']\n",
      " ['#' '#' '#' '#' '#' '#' '#' '#' '#']]\n",
      "epsilon:  0.050000395825137815\n",
      "reward 0\n",
      "[['#' '#' '#' '#' '#' '#' '#' '#' '#']\n",
      " ['#' '#' '#' '#' '#' '#' '#' '#' '#']\n",
      " ['#' '#' '.' '.' '.' '.' '.' '#' '#']\n",
      " ['#' '#' '.' '1' '.' '1' ',' '#' '#']\n",
      " ['#' '#' 'p' '2' '.' ',' ',' '#' '#']\n",
      " ['#' '#' '.' ',' ',' ',' ',' '#' '#']\n",
      " ['#' '#' ',' ',' ',' '.' '.' '#' '#']\n",
      " ['#' '#' '#' '#' '#' '#' '#' '#' '#']\n",
      " ['#' '#' '#' '#' '#' '#' '#' '#' '#']]\n",
      "epsilon:  0.05000039542951053\n",
      "reward 0\n",
      "[['#' '#' '#' '#' '#' '#' '#' '#' '#']\n",
      " ['#' '#' '#' '#' '#' '#' '#' '#' '#']\n",
      " ['#' '#' '.' '.' '.' '.' '.' '#' '#']\n",
      " ['#' '#' 'p' '1' '.' '1' ',' '#' '#']\n",
      " ['#' '#' '.' '2' '.' ',' ',' '#' '#']\n",
      " ['#' '#' '.' ',' ',' ',' ',' '#' '#']\n",
      " ['#' '#' ',' ',' ',' '.' '.' '#' '#']\n",
      " ['#' '#' '#' '#' '#' '#' '#' '#' '#']\n",
      " ['#' '#' '#' '#' '#' '#' '#' '#' '#']]\n",
      "epsilon:  0.050000395034278666\n",
      "reward 0\n",
      "[['#' '#' '#' '#' '#' '#' '#' '#' '#']\n",
      " ['#' '#' '#' '#' '#' '#' '#' '#' '#']\n",
      " ['#' '#' 'p' '.' '.' '.' '.' '#' '#']\n",
      " ['#' '#' '.' '1' '.' '1' ',' '#' '#']\n",
      " ['#' '#' '.' '2' '.' ',' ',' '#' '#']\n",
      " ['#' '#' '.' ',' ',' ',' ',' '#' '#']\n",
      " ['#' '#' ',' ',' ',' '.' '.' '#' '#']\n",
      " ['#' '#' '#' '#' '#' '#' '#' '#' '#']\n",
      " ['#' '#' '#' '#' '#' '#' '#' '#' '#']]\n",
      "epsilon:  0.050000394639441836\n",
      "reward 0\n",
      "[['#' '#' '#' '#' '#' '#' '#' '#' '#']\n",
      " ['#' '#' '#' '#' '#' '#' '#' '#' '#']\n",
      " ['#' '#' '.' 'p' '.' '.' '.' '#' '#']\n",
      " ['#' '#' '.' '1' '.' '1' ',' '#' '#']\n",
      " ['#' '#' '.' '2' '.' ',' ',' '#' '#']\n",
      " ['#' '#' '.' ',' ',' ',' ',' '#' '#']\n",
      " ['#' '#' ',' ',' ',' '.' '.' '#' '#']\n",
      " ['#' '#' '#' '#' '#' '#' '#' '#' '#']\n",
      " ['#' '#' '#' '#' '#' '#' '#' '#' '#']]\n",
      "epsilon:  0.05000039424499965\n",
      "reward 0\n",
      "[['#' '#' '#' '#' '#' '#' '#' '#' '#']\n",
      " ['#' '#' '#' '#' '#' '#' '#' '#' '#']\n",
      " ['#' '#' 'p' '.' '.' '.' '.' '#' '#']\n",
      " ['#' '#' '.' '1' '.' '1' ',' '#' '#']\n",
      " ['#' '#' '.' '2' '.' ',' ',' '#' '#']\n",
      " ['#' '#' '.' ',' ',' ',' ',' '#' '#']\n",
      " ['#' '#' ',' ',' ',' '.' '.' '#' '#']\n",
      " ['#' '#' '#' '#' '#' '#' '#' '#' '#']\n",
      " ['#' '#' '#' '#' '#' '#' '#' '#' '#']]\n",
      "epsilon:  0.05000039385095171\n",
      "reward 0\n",
      "[['#' '#' '#' '#' '#' '#' '#' '#' '#']\n",
      " ['#' '#' '#' '#' '#' '#' '#' '#' '#']\n",
      " ['#' '#' '.' 'p' '.' '.' '.' '#' '#']\n",
      " ['#' '#' '.' '1' '.' '1' ',' '#' '#']\n",
      " ['#' '#' '.' '2' '.' ',' ',' '#' '#']\n",
      " ['#' '#' '.' ',' ',' ',' ',' '#' '#']\n",
      " ['#' '#' ',' ',' ',' '.' '.' '#' '#']\n",
      " ['#' '#' '#' '#' '#' '#' '#' '#' '#']\n",
      " ['#' '#' '#' '#' '#' '#' '#' '#' '#']]\n",
      "epsilon:  0.050000393457297614\n",
      "reward 0\n",
      "[['#' '#' '#' '#' '#' '#' '#' '#' '#']\n",
      " ['#' '#' '#' '#' '#' '#' '#' '#' '#']\n",
      " ['#' '#' 'p' '.' '.' '.' '.' '#' '#']\n",
      " ['#' '#' '.' '1' '.' '1' ',' '#' '#']\n",
      " ['#' '#' '.' '2' '.' ',' ',' '#' '#']\n",
      " ['#' '#' '.' ',' ',' ',' ',' '#' '#']\n",
      " ['#' '#' ',' ',' ',' '.' '.' '#' '#']\n",
      " ['#' '#' '#' '#' '#' '#' '#' '#' '#']\n",
      " ['#' '#' '#' '#' '#' '#' '#' '#' '#']]\n",
      "epsilon:  0.05000039306403698\n",
      "reward 0\n",
      "[['#' '#' '#' '#' '#' '#' '#' '#' '#']\n",
      " ['#' '#' '#' '#' '#' '#' '#' '#' '#']\n",
      " ['#' '#' '.' 'p' '.' '.' '.' '#' '#']\n",
      " ['#' '#' '.' '1' '.' '1' ',' '#' '#']\n",
      " ['#' '#' '.' '2' '.' ',' ',' '#' '#']\n",
      " ['#' '#' '.' ',' ',' ',' ',' '#' '#']\n",
      " ['#' '#' ',' ',' ',' '.' '.' '#' '#']\n",
      " ['#' '#' '#' '#' '#' '#' '#' '#' '#']\n",
      " ['#' '#' '#' '#' '#' '#' '#' '#' '#']]\n",
      "epsilon:  0.05000039267116941\n",
      "reward 0\n",
      "[['#' '#' '#' '#' '#' '#' '#' '#' '#']\n",
      " ['#' '#' '#' '#' '#' '#' '#' '#' '#']\n",
      " ['#' '#' 'p' '.' '.' '.' '.' '#' '#']\n",
      " ['#' '#' '.' '1' '.' '1' ',' '#' '#']\n",
      " ['#' '#' '.' '2' '.' ',' ',' '#' '#']\n",
      " ['#' '#' '.' ',' ',' ',' ',' '#' '#']\n",
      " ['#' '#' ',' ',' ',' '.' '.' '#' '#']\n",
      " ['#' '#' '#' '#' '#' '#' '#' '#' '#']\n",
      " ['#' '#' '#' '#' '#' '#' '#' '#' '#']]\n",
      "epsilon:  0.05000039227869451\n",
      "reward 0\n",
      "[['#' '#' '#' '#' '#' '#' '#' '#' '#']\n",
      " ['#' '#' '#' '#' '#' '#' '#' '#' '#']\n",
      " ['#' '#' '.' 'p' '.' '.' '.' '#' '#']\n",
      " ['#' '#' '.' '1' '.' '1' ',' '#' '#']\n",
      " ['#' '#' '.' '2' '.' ',' ',' '#' '#']\n",
      " ['#' '#' '.' ',' ',' ',' ',' '#' '#']\n",
      " ['#' '#' ',' ',' ',' '.' '.' '#' '#']\n",
      " ['#' '#' '#' '#' '#' '#' '#' '#' '#']\n",
      " ['#' '#' '#' '#' '#' '#' '#' '#' '#']]\n",
      "epsilon:  0.05000039188661189\n",
      "reward 0\n",
      "[['#' '#' '#' '#' '#' '#' '#' '#' '#']\n",
      " ['#' '#' '#' '#' '#' '#' '#' '#' '#']\n",
      " ['#' '#' 'p' '.' '.' '.' '.' '#' '#']\n",
      " ['#' '#' '.' '1' '.' '1' ',' '#' '#']\n",
      " ['#' '#' '.' '2' '.' ',' ',' '#' '#']\n",
      " ['#' '#' '.' ',' ',' ',' ',' '#' '#']\n",
      " ['#' '#' ',' ',' ',' '.' '.' '#' '#']\n",
      " ['#' '#' '#' '#' '#' '#' '#' '#' '#']\n",
      " ['#' '#' '#' '#' '#' '#' '#' '#' '#']]\n",
      "epsilon:  0.05000039149492116\n",
      "reward 0\n",
      "[['#' '#' '#' '#' '#' '#' '#' '#' '#']\n",
      " ['#' '#' '#' '#' '#' '#' '#' '#' '#']\n",
      " ['#' '#' '.' 'p' '.' '.' '.' '#' '#']\n",
      " ['#' '#' '.' '1' '.' '1' ',' '#' '#']\n",
      " ['#' '#' '.' '2' '.' ',' ',' '#' '#']\n",
      " ['#' '#' '.' ',' ',' ',' ',' '#' '#']\n",
      " ['#' '#' ',' ',' ',' '.' '.' '#' '#']\n",
      " ['#' '#' '#' '#' '#' '#' '#' '#' '#']\n",
      " ['#' '#' '#' '#' '#' '#' '#' '#' '#']]\n"
     ]
    }
   ],
   "source": [
    "    \n",
    "\n",
    "for episode in range(episodes):\n",
    "    state, info = snowman_env.reset()\n",
    "    if RANDOMIZE_AGENT_POSITION_EACH_EPISODE:\n",
    "        state, info = snowman_env.randomize_agent_position()\n",
    "    \n",
    "    #Convertim l'estat a un tensor. Fem unsqueeze perquè la xarxa neuronal s'espera un batch de mapes, i state es un sol mapa.\n",
    "    #Per tant li passem un batch de un sol mapa encapsulant en un array (o tensor)\n",
    "\n",
    "    #Separem les capes de l'estat (mapa) en una capa per cada tipus de casella:\n",
    "    #state = snowman_env.split_map_layers(state)\n",
    "    state = torch.tensor(state, dtype=torch.float32, device=device).unsqueeze(0)\n",
    "    rewards_string = []\n",
    "    act_rewards = []\n",
    "    nJuagades = 0\n",
    "    for jugada in range(jugades):\n",
    "        if RANDOMIZE_AGENT_POSITION_EACH_EPISODE and jugada % 20 == 0 and False:\n",
    "            state, info = snowman_env.randomize_agent_position()\n",
    "            state = torch.tensor(state, dtype=torch.float32, device=device).unsqueeze(0)\n",
    "\n",
    "        nJuagades = nJuagades+1\n",
    "        #Triem una accio segons la politica epsilon greedy\n",
    "        isRandom, action = training_agent.select_action_epsilon_greedy(state, snowman_env)\n",
    "        next_state, reward, done, _ = snowman_env.step(action.item())\n",
    "        act_rewards.append(reward)\n",
    "        rewards_per_jugada.append(reward)\n",
    "        rewards_string.append(str(reward) if isRandom else reward)\n",
    "        if reward >= best_score:\n",
    "            best_score = reward\n",
    "\n",
    "        #Conevrtim el reward a un tensor i el seguent state a un tensor, aixi ho guardem al replay_memory tot en tensors:\n",
    "        reward = torch.tensor([reward], device=device)\n",
    "        #if done:\n",
    "            #next_state = None\n",
    "        #else:\n",
    "        next_state = torch.tensor(next_state, dtype=torch.float32, device=device).unsqueeze(0)\n",
    "\n",
    "        \n",
    "        training_agent.replay_memory.push(state,action, next_state, reward)\n",
    "\n",
    "        #Anem al seguent estat\n",
    "        state = next_state\n",
    "\n",
    "        #OPTIMIZATION\n",
    "        training_agent.training_step()\n",
    "        #if intrinsic_reward !=None:\n",
    "            #intrinsic_rewards.append(intrinsic_reward)\n",
    "\n",
    "\n",
    "       \n",
    "        if debug_mode:\n",
    "            print(\"epsilon: \",EPS_END + (EPS_START - EPS_END) * math.exp(-1. * training_agent.steps_done / EPS_DECAY))\n",
    "            print(\"reward\", reward.item())\n",
    "            snowman_env.show_map(SnowmanEnvironment.DECODED_TEXT_MODE)\n",
    "            time.sleep(1)\n",
    "        if done:\n",
    "            break\n",
    "        \n",
    "\n",
    "    \n",
    "\n",
    "    #per tant iterem per cada pes de la xarxa que volem actualitzar, i fem que el seu pes sigui un cert\n",
    "    # percentatge (TAU) de la xarxa objectiu més el restant (1-TAU) de la seva pròpia. Si TAU és 0.01,\n",
    "    #copia el 1% del pes de l'objectiu i conserva l'altre 99%\n",
    "    if tau_mode:\n",
    "        #Soft update: Quan actualitzem els pesos, actualitzem el TAU % del pes enlloc de \n",
    "        #copiar totalment el pes de cada parametre per evitar variacions massives i millorar la estabilitat:\n",
    "        target_net_state_dict = training_agent.target_net.state_dict()\n",
    "        policy_net_state_dict = training_agent.policy_net.state_dict()\n",
    "        for key in policy_net_state_dict:\n",
    "            target_net_state_dict[key] = policy_net_state_dict[key]*TAU + target_net_state_dict[key]*(1-TAU)\n",
    "            training_agent.target_net.load_state_dict(target_net_state_dict)\n",
    "    else:\n",
    "        if episode % 15 == 0:\n",
    "            training_agent.target_net.load_state_dict(training_agent.policy_net.state_dict())\n",
    "        \n",
    "        \n",
    "    rewards.append(sum(act_rewards))\n",
    "    if episode % 5 == 0:\n",
    "        eps = EPS_END + (EPS_START - EPS_END) * math.exp(-1. * max(0,(training_agent.steps_done-training_agent.initial_random_steps)) / EPS_DECAY)\n",
    "        print(\"\\rEpisode: {}, jugades {}, total_score: {} , score: {}, best_score: {} eps: {:.3f}    \\n\".format(episode, nJuagades, sum(act_rewards), rewards_string, best_score, eps), end=\"\")\n",
    "        snowman_env.show_map(SnowmanEnvironment.DECODED_TEXT_MODE)\n",
    "\n",
    "\n",
    "            \n",
    "\n"
   ]
  },
  {
   "cell_type": "markdown",
   "metadata": {},
   "source": []
  },
  {
   "cell_type": "markdown",
   "metadata": {},
   "source": [
    "MOSTREM ELS RESULTATS (REWARDS)"
   ]
  },
  {
   "cell_type": "code",
   "execution_count": null,
   "metadata": {},
   "outputs": [
    {
     "data": {
      "image/png": "[encoded data removed]",
      "text/plain": [
       "<Figure size 800x400 with 1 Axes>"
      ]
     },
     "metadata": {},
     "output_type": "display_data"
    }
   ],
   "source": [
    "plt.figure(figsize=(8, 4))\n",
    "plt.plot(rewards)\n",
    "plt.xlabel(\"Episode\", fontsize=14)\n",
    "plt.ylabel(\"Sum of rewards\", fontsize=14)\n",
    "#save_fig(\"dqn_rewards_plot\")\n",
    "plt.show()"
   ]
  },
  {
   "cell_type": "code",
   "execution_count": null,
   "metadata": {},
   "outputs": [
    {
     "name": "stdout",
     "output_type": "stream",
     "text": [
      "[]\n"
     ]
    },
    {
     "ename": "IndexError",
     "evalue": "too many indices for array: array is 1-dimensional, but 2 were indexed",
     "output_type": "error",
     "traceback": [
      "\u001b[1;31m---------------------------------------------------------------------------\u001b[0m",
      "\u001b[1;31mIndexError\u001b[0m                                Traceback (most recent call last)",
      "\u001b[1;32m~\\AppData\\Local\\Temp\\ipykernel_20864\\2137954093.py\u001b[0m in \u001b[0;36m<module>\u001b[1;34m\u001b[0m\n\u001b[0;32m      3\u001b[0m     \u001b[0mlosses_\u001b[0m \u001b[1;33m=\u001b[0m \u001b[0mnp\u001b[0m\u001b[1;33m.\u001b[0m\u001b[0marray\u001b[0m\u001b[1;33m(\u001b[0m\u001b[0mintrinsic_rewards\u001b[0m\u001b[1;33m)\u001b[0m\u001b[1;33m\u001b[0m\u001b[1;33m\u001b[0m\u001b[0m\n\u001b[0;32m      4\u001b[0m     \u001b[0mplt\u001b[0m\u001b[1;33m.\u001b[0m\u001b[0mfigure\u001b[0m\u001b[1;33m(\u001b[0m\u001b[0mfigsize\u001b[0m\u001b[1;33m=\u001b[0m\u001b[1;33m(\u001b[0m\u001b[1;36m8\u001b[0m\u001b[1;33m,\u001b[0m\u001b[1;36m6\u001b[0m\u001b[1;33m)\u001b[0m\u001b[1;33m)\u001b[0m\u001b[1;33m\u001b[0m\u001b[1;33m\u001b[0m\u001b[0m\n\u001b[1;32m----> 5\u001b[1;33m     \u001b[0mplt\u001b[0m\u001b[1;33m.\u001b[0m\u001b[0mplot\u001b[0m\u001b[1;33m(\u001b[0m\u001b[0mnp\u001b[0m\u001b[1;33m.\u001b[0m\u001b[0mlog\u001b[0m\u001b[1;33m(\u001b[0m\u001b[0mlosses_\u001b[0m\u001b[1;33m[\u001b[0m\u001b[1;33m:\u001b[0m\u001b[1;33m,\u001b[0m\u001b[1;36m0\u001b[0m\u001b[1;33m]\u001b[0m\u001b[1;33m)\u001b[0m\u001b[1;33m,\u001b[0m\u001b[0mlabel\u001b[0m\u001b[1;33m=\u001b[0m\u001b[1;34m'Q loss'\u001b[0m\u001b[1;33m)\u001b[0m\u001b[1;33m\u001b[0m\u001b[1;33m\u001b[0m\u001b[0m\n\u001b[0m\u001b[0;32m      6\u001b[0m     \u001b[0mplt\u001b[0m\u001b[1;33m.\u001b[0m\u001b[0mplot\u001b[0m\u001b[1;33m(\u001b[0m\u001b[0mnp\u001b[0m\u001b[1;33m.\u001b[0m\u001b[0mlog\u001b[0m\u001b[1;33m(\u001b[0m\u001b[0mlosses_\u001b[0m\u001b[1;33m[\u001b[0m\u001b[1;33m:\u001b[0m\u001b[1;33m,\u001b[0m\u001b[1;36m1\u001b[0m\u001b[1;33m]\u001b[0m\u001b[1;33m)\u001b[0m\u001b[1;33m,\u001b[0m\u001b[0mlabel\u001b[0m\u001b[1;33m=\u001b[0m\u001b[1;34m'Forward loss'\u001b[0m\u001b[1;33m)\u001b[0m\u001b[1;33m\u001b[0m\u001b[1;33m\u001b[0m\u001b[0m\n\u001b[0;32m      7\u001b[0m     \u001b[0mplt\u001b[0m\u001b[1;33m.\u001b[0m\u001b[0mplot\u001b[0m\u001b[1;33m(\u001b[0m\u001b[0mnp\u001b[0m\u001b[1;33m.\u001b[0m\u001b[0mlog\u001b[0m\u001b[1;33m(\u001b[0m\u001b[0mlosses_\u001b[0m\u001b[1;33m[\u001b[0m\u001b[1;33m:\u001b[0m\u001b[1;33m,\u001b[0m\u001b[1;36m2\u001b[0m\u001b[1;33m]\u001b[0m\u001b[1;33m)\u001b[0m\u001b[1;33m,\u001b[0m\u001b[0mlabel\u001b[0m\u001b[1;33m=\u001b[0m\u001b[1;34m'Inverse loss'\u001b[0m\u001b[1;33m)\u001b[0m\u001b[1;33m\u001b[0m\u001b[1;33m\u001b[0m\u001b[0m\n",
      "\u001b[1;31mIndexError\u001b[0m: too many indices for array: array is 1-dimensional, but 2 were indexed"
     ]
    },
    {
     "data": {
      "text/plain": [
       "<Figure size 800x600 with 0 Axes>"
      ]
     },
     "metadata": {},
     "output_type": "display_data"
    }
   ],
   "source": [
    "print(intrinsic_rewards)\n",
    "with torch.no_grad():\n",
    "    losses_ = np.array(intrinsic_rewards)\n",
    "    plt.figure(figsize=(8,6))\n",
    "    plt.plot(np.log(losses_[:,0]),label='Q loss')\n",
    "    plt.plot(np.log(losses_[:,1]),label='Forward loss')\n",
    "    plt.plot(np.log(losses_[:,2]),label='Inverse loss')\n",
    "    plt.legend()\n",
    "    plt.show()"
   ]
  },
  {
   "cell_type": "code",
   "execution_count": null,
   "metadata": {},
   "outputs": [
    {
     "data": {
      "image/png": "[encoded data removed]",
      "text/plain": [
       "<Figure size 800x400 with 1 Axes>"
      ]
     },
     "metadata": {},
     "output_type": "display_data"
    }
   ],
   "source": [
    "plt.figure(figsize=(8, 4))\n",
    "plt.plot(rewards_per_jugada)\n",
    "plt.xlabel(\"Episode\", fontsize=14)\n",
    "plt.ylabel(\"Sum of rewards\", fontsize=14)\n",
    "#save_fig(\"dqn_rewards_plot\")\n",
    "plt.show()"
   ]
  },
  {
   "cell_type": "markdown",
   "metadata": {},
   "source": [
    "El mapa final:"
   ]
  },
  {
   "cell_type": "code",
   "execution_count": null,
   "metadata": {},
   "outputs": [],
   "source": [
    "snowman_env.show_map(SnowmanEnvironment.ENCODED_TEXT_MODE)\n",
    "snowman_env.show_map(SnowmanEnvironment.DECODED_TEXT_MODE)"
   ]
  },
  {
   "cell_type": "markdown",
   "metadata": {},
   "source": [
    "Guardem el model:"
   ]
  },
  {
   "cell_type": "code",
   "execution_count": null,
   "metadata": {},
   "outputs": [],
   "source": [
    "#torch.save(training_agent.policy_net.state_dict(),save_path)"
   ]
  },
  {
   "cell_type": "markdown",
   "metadata": {},
   "source": [
    "Carreguem el model i inferim:"
   ]
  },
  {
   "cell_type": "code",
   "execution_count": null,
   "metadata": {},
   "outputs": [
    {
     "ename": "RuntimeError",
     "evalue": "Error(s) in loading state_dict for DQN:\n\tsize mismatch for conv1.weight: copying a param with shape torch.Size([16, 4, 3, 3]) from checkpoint, the shape in current model is torch.Size([16, 1, 3, 3]).",
     "output_type": "error",
     "traceback": [
      "\u001b[1;31m---------------------------------------------------------------------------\u001b[0m",
      "\u001b[1;31mRuntimeError\u001b[0m                              Traceback (most recent call last)",
      "\u001b[1;32m~\\AppData\\Local\\Temp\\ipykernel_10312\\2027894667.py\u001b[0m in \u001b[0;36m<module>\u001b[1;34m\u001b[0m\n\u001b[0;32m      1\u001b[0m \u001b[0minferenceModel\u001b[0m \u001b[1;33m=\u001b[0m \u001b[0mDQN\u001b[0m\u001b[1;33m(\u001b[0m\u001b[1;36m1\u001b[0m\u001b[1;33m,\u001b[0m\u001b[0mn_actions\u001b[0m\u001b[1;33m,\u001b[0m \u001b[0mmap_rows\u001b[0m\u001b[1;33m,\u001b[0m \u001b[0mmap_cols\u001b[0m\u001b[1;33m)\u001b[0m\u001b[1;33m.\u001b[0m\u001b[0mto\u001b[0m\u001b[1;33m(\u001b[0m\u001b[0mdevice\u001b[0m\u001b[1;33m)\u001b[0m\u001b[1;33m\u001b[0m\u001b[1;33m\u001b[0m\u001b[0m\n\u001b[1;32m----> 2\u001b[1;33m \u001b[0minferenceModel\u001b[0m\u001b[1;33m.\u001b[0m\u001b[0mload_state_dict\u001b[0m\u001b[1;33m(\u001b[0m\u001b[0mtorch\u001b[0m\u001b[1;33m.\u001b[0m\u001b[0mload\u001b[0m\u001b[1;33m(\u001b[0m\u001b[0msave_path\u001b[0m\u001b[1;33m)\u001b[0m\u001b[1;33m)\u001b[0m\u001b[1;33m\u001b[0m\u001b[1;33m\u001b[0m\u001b[0m\n\u001b[0m\u001b[0;32m      3\u001b[0m \u001b[0minferenceModel\u001b[0m\u001b[1;33m.\u001b[0m\u001b[0meval\u001b[0m\u001b[1;33m(\u001b[0m\u001b[1;33m)\u001b[0m\u001b[1;33m\u001b[0m\u001b[1;33m\u001b[0m\u001b[0m\n",
      "\u001b[1;32mc:\\Users\\bilal\\anaconda3\\lib\\site-packages\\torch\\nn\\modules\\module.py\u001b[0m in \u001b[0;36mload_state_dict\u001b[1;34m(self, state_dict, strict, assign)\u001b[0m\n\u001b[0;32m   2150\u001b[0m \u001b[1;33m\u001b[0m\u001b[0m\n\u001b[0;32m   2151\u001b[0m         \u001b[1;32mif\u001b[0m \u001b[0mlen\u001b[0m\u001b[1;33m(\u001b[0m\u001b[0merror_msgs\u001b[0m\u001b[1;33m)\u001b[0m \u001b[1;33m>\u001b[0m \u001b[1;36m0\u001b[0m\u001b[1;33m:\u001b[0m\u001b[1;33m\u001b[0m\u001b[1;33m\u001b[0m\u001b[0m\n\u001b[1;32m-> 2152\u001b[1;33m             raise RuntimeError('Error(s) in loading state_dict for {}:\\n\\t{}'.format(\n\u001b[0m\u001b[0;32m   2153\u001b[0m                                self.__class__.__name__, \"\\n\\t\".join(error_msgs)))\n\u001b[0;32m   2154\u001b[0m         \u001b[1;32mreturn\u001b[0m \u001b[0m_IncompatibleKeys\u001b[0m\u001b[1;33m(\u001b[0m\u001b[0mmissing_keys\u001b[0m\u001b[1;33m,\u001b[0m \u001b[0munexpected_keys\u001b[0m\u001b[1;33m)\u001b[0m\u001b[1;33m\u001b[0m\u001b[1;33m\u001b[0m\u001b[0m\n",
      "\u001b[1;31mRuntimeError\u001b[0m: Error(s) in loading state_dict for DQN:\n\tsize mismatch for conv1.weight: copying a param with shape torch.Size([16, 4, 3, 3]) from checkpoint, the shape in current model is torch.Size([16, 1, 3, 3])."
     ]
    }
   ],
   "source": []
  },
  {
   "cell_type": "code",
   "execution_count": null,
   "metadata": {},
   "outputs": [
    {
     "ename": "NameError",
     "evalue": "name 'SnowmanEnvironment' is not defined",
     "output_type": "error",
     "traceback": [
      "\u001b[1;31m---------------------------------------------------------------------------\u001b[0m",
      "\u001b[1;31mNameError\u001b[0m                                 Traceback (most recent call last)",
      "\u001b[1;32m~\\AppData\\Local\\Temp\\ipykernel_10400\\1626038150.py\u001b[0m in \u001b[0;36m<module>\u001b[1;34m\u001b[0m\n\u001b[1;32m----> 1\u001b[1;33m \u001b[0minferenceEnvironment\u001b[0m \u001b[1;33m=\u001b[0m \u001b[0mSnowmanEnvironment\u001b[0m\u001b[1;33m(\u001b[0m\u001b[0mmap_path\u001b[0m\u001b[1;33m,\u001b[0m \u001b[0mmap_rows\u001b[0m\u001b[1;33m,\u001b[0m \u001b[0mmap_cols\u001b[0m\u001b[1;33m,\u001b[0m \u001b[0mpreprocess_mode\u001b[0m\u001b[1;33m=\u001b[0m\u001b[0mSnowmanEnvironment\u001b[0m\u001b[1;33m.\u001b[0m\u001b[0mPREPROCESS_V3\u001b[0m\u001b[1;33m)\u001b[0m\u001b[1;33m\u001b[0m\u001b[1;33m\u001b[0m\u001b[0m\n\u001b[0m\u001b[0;32m      2\u001b[0m \u001b[0minferenceModel\u001b[0m \u001b[1;33m=\u001b[0m \u001b[0mDQN\u001b[0m\u001b[1;33m(\u001b[0m\u001b[0minferenceEnvironment\u001b[0m\u001b[1;33m.\u001b[0m\u001b[0mlayers\u001b[0m\u001b[1;33m,\u001b[0m\u001b[0mn_actions\u001b[0m\u001b[1;33m,\u001b[0m \u001b[0mmap_rows\u001b[0m\u001b[1;33m,\u001b[0m \u001b[0mmap_cols\u001b[0m\u001b[1;33m)\u001b[0m\u001b[1;33m.\u001b[0m\u001b[0mto\u001b[0m\u001b[1;33m(\u001b[0m\u001b[0mdevice\u001b[0m\u001b[1;33m)\u001b[0m\u001b[1;33m\u001b[0m\u001b[1;33m\u001b[0m\u001b[0m\n\u001b[0;32m      3\u001b[0m \u001b[0minferenceModel\u001b[0m\u001b[1;33m.\u001b[0m\u001b[0mload_state_dict\u001b[0m\u001b[1;33m(\u001b[0m\u001b[0mtorch\u001b[0m\u001b[1;33m.\u001b[0m\u001b[0mload\u001b[0m\u001b[1;33m(\u001b[0m\u001b[0msave_path\u001b[0m\u001b[1;33m)\u001b[0m\u001b[1;33m)\u001b[0m\u001b[1;33m\u001b[0m\u001b[1;33m\u001b[0m\u001b[0m\n\u001b[0;32m      4\u001b[0m \u001b[0minferenceModel\u001b[0m\u001b[1;33m.\u001b[0m\u001b[0meval\u001b[0m\u001b[1;33m(\u001b[0m\u001b[1;33m)\u001b[0m\u001b[1;33m\u001b[0m\u001b[1;33m\u001b[0m\u001b[0m\n\u001b[0;32m      5\u001b[0m \u001b[0mdone\u001b[0m \u001b[1;33m=\u001b[0m \u001b[1;32mFalse\u001b[0m\u001b[1;33m\u001b[0m\u001b[1;33m\u001b[0m\u001b[0m\n",
      "\u001b[1;31mNameError\u001b[0m: name 'SnowmanEnvironment' is not defined"
     ]
    }
   ],
   "source": [
    "\n",
    "inferenceEnvironment = SnowmanEnvironment(map_path, map_rows, map_cols, preprocess_mode=SnowmanEnvironment.PREPROCESS_V3)\n",
    "inferenceModel = DQN(inferenceEnvironment.layers,n_actions, map_rows, map_cols).to(device)\n",
    "inferenceModel.load_state_dict(torch.load(save_path))\n",
    "inferenceModel.eval()\n",
    "done = False\n",
    "max_steps = 100\n",
    "steps = 0\n",
    "while(not done and steps < max_steps):\n",
    "    state = inferenceEnvironment.preprocess_map(inferenceEnvironment.map)\n",
    "    state = torch.tensor(state, dtype=torch.float32, device=device).unsqueeze(0)\n",
    "    valid_actions, invalid_actions = inferenceEnvironment.get_valid_actions()\n",
    "    actions = inferenceModel(state)\n",
    "    invalid_actions = torch.tensor(invalid_actions, device=device, dtype=torch.long)\n",
    "    actions[0,invalid_actions]=-100000    \n",
    "    action = actions.max(1).indices.view(1, 1)\n",
    "    _, _, done, _ = inferenceEnvironment.step(action)\n",
    "    inferenceEnvironment.show_map(SnowmanEnvironment.DECODED_TEXT_MODE)\n",
    "    print('\\n')\n",
    "    time.sleep(1)\n",
    "\n"
   ]
  },
  {
   "cell_type": "code",
   "execution_count": null,
   "metadata": {},
   "outputs": [
    {
     "name": "stdout",
     "output_type": "stream",
     "text": [
      "n,m:  9 12\n",
      "setting agent position to  6 2\n",
      "(6, 2)\n",
      "[['#' '#' '#' '#' '#' '#' '#' '#' '#' '#' '#' '#']\n",
      " ['#' '#' '#' '#' '#' '#' '#' '#' '#' '#' '#' '#']\n",
      " ['#' '#' '4' '.' '.' '.' '.' '#' '.' '.' '#' '#']\n",
      " ['#' '#' '.' '.' '.' '.' '.' '1' '.' 'p' '#' '#']\n",
      " ['#' '#' '.' '2' '.' '.' '.' '#' '.' '.' '#' '#']\n",
      " ['#' '#' '.' '.' '.' '.' '.' '#' '.' '.' '#' '#']\n",
      " ['#' '#' '.' '.' '.' '.' '1' '#' '.' '.' '#' '#']\n",
      " ['#' '#' '#' '#' '#' '#' '#' '#' '#' '#' '#' '#']\n",
      " ['#' '#' '#' '#' '#' '#' '#' '#' '#' '#' '#' '#']]\n",
      "\n",
      "[[0. 0. 0. 0. 0. 0. 0. 0. 0. 0. 0. 0.]\n",
      " [0. 0. 0. 0. 0. 0. 0. 0. 0. 0. 0. 0.]\n",
      " [0. 0. 0. 0. 0. 0. 0. 0. 1. 1. 0. 0.]\n",
      " [0. 0. 0. 0. 0. 0. 0. 0. 1. 1. 0. 0.]\n",
      " [0. 0. 0. 0. 0. 0. 0. 0. 1. 1. 0. 0.]\n",
      " [0. 0. 0. 0. 0. 0. 0. 0. 1. 1. 0. 0.]\n",
      " [0. 0. 0. 0. 0. 0. 0. 0. 1. 1. 0. 0.]\n",
      " [0. 0. 0. 0. 0. 0. 0. 0. 0. 0. 0. 0.]\n",
      " [0. 0. 0. 0. 0. 0. 0. 0. 0. 0. 0. 0.]]\n",
      "\n",
      "[[0. 0. 0. 0. 0. 0. 0. 0. 0. 0. 0. 0.]\n",
      " [0. 0. 0. 0. 0. 0. 0. 0. 0. 0. 0. 0.]\n",
      " [0. 0. 0. 0. 0. 0. 0. 0. 0. 0. 0. 0.]\n",
      " [0. 0. 0. 1. 0. 0. 1. 0. 1. 0. 0. 0.]\n",
      " [0. 0. 1. 0. 1. 0. 0. 0. 0. 0. 0. 0.]\n",
      " [0. 0. 0. 1. 0. 0. 0. 0. 0. 0. 0. 0.]\n",
      " [0. 0. 0. 0. 0. 0. 0. 0. 0. 0. 0. 0.]\n",
      " [0. 0. 0. 0. 0. 0. 0. 0. 0. 0. 0. 0.]\n",
      " [0. 0. 0. 0. 0. 0. 0. 0. 0. 0. 0. 0.]]\n"
     ]
    }
   ],
   "source": [
    "from environments.SnowmanEnvironment import SnowmanEnvironment\n",
    "snowman_env_test = SnowmanEnvironment(map_file='./Dades/test.txt', \n",
    "                                 n=9, m=12,\n",
    "                                 preprocess_mode=SnowmanEnvironment.PREPROCESS_V2,\n",
    "                                 enable_step_back_optimzation=True, \n",
    "                                 enable_blocked_snowman_optimization=True)\n",
    "print(snowman_env_test.agent_position)\n",
    "snowman_env_test.randomize_agent_position()\n",
    "snowman_env_test.show_map(SnowmanEnvironment.DECODED_TEXT_MODE)\n",
    "print()\n",
    "print(snowman_env_test.split_map_layersV2(snowman_env_test.map)[1,:])\n",
    "print()\n",
    "print(snowman_env_test.split_map_layersV2(snowman_env_test.map)[2,:])\n",
    "#snowman_env_test.previous_agent_position = (2,6)\n",
    "#snowman_env_test.agent_position = (2,6)\n",
    "#a = snowman_env_test.adjust_reward(0,[5,4],[4,4])\n",
    "#print(snowman_env_test.agent_position)\n",
    "#print(\"****************************************************************\")\n",
    "#snowman_env_test.step(3)\n",
    "#snowman_env_test.show_map(SnowmanEnvironment.DECODED_TEXT_MODE)\n",
    "\n",
    "\n"
   ]
  }
 ],
 "metadata": {
  "kernelspec": {
   "display_name": "base",
   "language": "python",
   "name": "python3"
  },
  "language_info": {
   "codemirror_mode": {
    "name": "ipython",
    "version": 3
   },
   "file_extension": ".py",
   "mimetype": "text/x-python",
   "name": "python",
   "nbconvert_exporter": "python",
   "pygments_lexer": "ipython3",
   "version": "3.9.13"
  }
 },
 "nbformat": 4,
 "nbformat_minor": 2
}
