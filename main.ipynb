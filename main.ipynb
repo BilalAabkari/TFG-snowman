{
 "cells": [
  {
   "cell_type": "code",
   "execution_count": 76,
   "metadata": {},
   "outputs": [
    {
     "name": "stdout",
     "output_type": "stream",
     "text": [
      "The autoreload extension is already loaded. To reload it, use:\n",
      "  %reload_ext autoreload\n"
     ]
    }
   ],
   "source": [
    "%load_ext autoreload\n",
    "%autoreload 2\n",
    "\n",
    "\n",
    "\n",
    "\n",
    "        "
   ]
  },
  {
   "cell_type": "code",
   "execution_count": 77,
   "metadata": {},
   "outputs": [
    {
     "name": "stdout",
     "output_type": "stream",
     "text": [
      "The model will be trained with cuda\n"
     ]
    }
   ],
   "source": [
    "import numpy as np\n",
    "import random\n",
    "import torch\n",
    "import torch.nn as nn\n",
    "import torch.optim as optim\n",
    "import torch.nn.functional as F\n",
    "import matplotlib.pyplot as plt\n",
    "import math\n",
    "\n",
    "np.random.seed(13)\n",
    "torch.manual_seed(13)\n",
    "\n",
    "plt.ion()\n",
    "device = torch.device(\"cuda\" if torch.cuda.is_available() else \"cpu\")\n",
    "print(\"The model will be trained with\", device)\n",
    "\n"
   ]
  },
  {
   "cell_type": "code",
   "execution_count": 78,
   "metadata": {},
   "outputs": [],
   "source": [
    "\n",
    "from environments.SnowmanEnvironment import SnowmanEnvironment\n",
    "\n",
    "map_rows=9\n",
    "map_cols=11\n",
    "n_actions = 4 #Modifica quan implementi gym\n",
    "map_layers = 1\n",
    "\n",
    "snowman_env = SnowmanEnvironment(map_file='./Dades/facils/david-1.txt', \n",
    "                                 n=map_rows, m=map_cols, \n",
    "                                 stop_when_error=False, \n",
    "                                 stop_when_dumb=False, \n",
    "                                 enable_step_back_optimzation=True, \n",
    "                                 enable_blocked_snowman_optimization=True)\n"
   ]
  },
  {
   "cell_type": "code",
   "execution_count": 79,
   "metadata": {},
   "outputs": [],
   "source": [
    "from utils.ReplayMemory import ReplayMemory\n",
    "from utils.ReplayMemory import Transition\n",
    "\n",
    "memory = ReplayMemory(10000)\n"
   ]
  },
  {
   "cell_type": "code",
   "execution_count": 80,
   "metadata": {},
   "outputs": [
    {
     "data": {
      "text/plain": [
       "<All keys matched successfully>"
      ]
     },
     "execution_count": 80,
     "metadata": {},
     "output_type": "execute_result"
    }
   ],
   "source": [
    "from neuralNests.ConvNet_v1 import DQN\n",
    "policy_net = DQN(map_layers, n_actions, map_rows, map_cols).to(device)\n",
    "target_net = DQN(map_layers, n_actions, map_rows, map_cols).to(device)\n",
    "target_net.load_state_dict(policy_net.state_dict())"
   ]
  },
  {
   "cell_type": "code",
   "execution_count": 81,
   "metadata": {},
   "outputs": [],
   "source": [
    "\n",
    "from trainingAgents.SnowmanTrainingAgent import TrainingAgent\n",
    "\n",
    "BATCH_SIZE = 256 #mida del batch del replay\n",
    "GAMMA = 0.99 #factor de descompte de les recompeses futures\n",
    "EPS_START = 1 #valor inicial de la epsilon per la epsilon greedy policy\n",
    "EPS_END = 0.05 #valor final de la epsilon per la epsilon greedy policy\n",
    "EPS_DECAY = 100000 #controla la caiguda expoencial del valor epsilon, com més alt, mes lent disminueix\n",
    "TAU = 0.005 #controla cada quan s'actualitza la target network\n",
    "LR = 1e-4 #Learning rate de l'optimitzador\n",
    "\n",
    "\n",
    "optimizer = optim.AdamW(policy_net.parameters(), lr=LR, amsgrad=True)\n",
    "training_agent = TrainingAgent(policy_net, target_net, optimizer, memory, EPS_END, EPS_START, EPS_DECAY, GAMMA, BATCH_SIZE, device)\n",
    "\n"
   ]
  },
  {
   "cell_type": "code",
   "execution_count": 82,
   "metadata": {},
   "outputs": [
    {
     "name": "stdout",
     "output_type": "stream",
     "text": [
      "***************************ENCODED MAP****************************\n",
      "[[ 0.  0.  0.  0.  0.  0.  0.  0.  0.  0.  0.]\n",
      " [ 0.  0.  0.  0.  0.  0.  0.  0.  0.  0.  0.]\n",
      " [ 0.  0.  9.  9.  9.  9.  9.  4.  9.  0.  0.]\n",
      " [ 0.  0.  9.  9.  9.  9.  9.  2.  9.  0.  0.]\n",
      " [ 0.  0.  9.  9.  9. 10.  9.  7.  9.  0.  0.]\n",
      " [ 0.  0.  9.  9.  9.  9.  9.  1.  9.  0.  0.]\n",
      " [ 0.  0.  9.  9.  9.  9.  9.  9.  9.  0.  0.]\n",
      " [ 0.  0.  0.  0.  0.  0.  0.  0.  0.  0.  0.]\n",
      " [ 0.  0.  0.  0.  0.  0.  0.  0.  0.  0.  0.]]\n",
      "\n",
      "\n",
      "***************************DECODED MAP****************************\n",
      "[['#' '#' '#' '#' '#' '#' '#' '#' '#' '#' '#']\n",
      " ['#' '#' '#' '#' '#' '#' '#' '#' '#' '#' '#']\n",
      " ['#' '#' '.' '.' '.' '.' '.' '4' '.' '#' '#']\n",
      " ['#' '#' '.' '.' '.' '.' '.' '2' '.' '#' '#']\n",
      " ['#' '#' '.' '.' '.' 'p' '.' '7' '.' '#' '#']\n",
      " ['#' '#' '.' '.' '.' '.' '.' '1' '.' '#' '#']\n",
      " ['#' '#' '.' '.' '.' '.' '.' '.' '.' '#' '#']\n",
      " ['#' '#' '#' '#' '#' '#' '#' '#' '#' '#' '#']\n",
      " ['#' '#' '#' '#' '#' '#' '#' '#' '#' '#' '#']]\n",
      "\n",
      "\n"
     ]
    }
   ],
   "source": [
    "\n",
    "print(\"***************************ENCODED MAP****************************\")\n",
    "snowman_env.show_map(SnowmanEnvironment.ENCODED_TEXT_MODE)\n",
    "print(\"\\n\")\n",
    "print(\"***************************DECODED MAP****************************\")\n",
    "snowman_env.show_map(SnowmanEnvironment.DECODED_TEXT_MODE)\n",
    "print(\"\\n\")"
   ]
  },
  {
   "cell_type": "markdown",
   "metadata": {},
   "source": [
    "MAIN TRAINING LOOP"
   ]
  },
  {
   "cell_type": "code",
   "execution_count": 83,
   "metadata": {},
   "outputs": [
    {
     "name": "stdout",
     "output_type": "stream",
     "text": [
      "Episode: 0, jugades 50, total_score: -575 , score: [1, 1, 1, -100, -9, 1, 1, 1, 1, 1, -100, 1, -9, -9, 1, -9, -9, 1, 1, 1, 1, 1, 1, 1, 1, -9, 1, 1, -100, 1, 1, -100, 1, 1, 1, 1, 1, -9, 1, -9, 1, 1, 1, -9, 1, -9, 1, -9, -9, -100], best_score: 1 eps: 1.000    \n",
      "[['#' '#' '#' '#' '#' '#' '#' '#' '#' '#' '#']\n",
      " ['#' '#' '#' '#' '#' '#' '#' '#' '#' '#' '#']\n",
      " ['#' '#' '.' '.' '.' '.' '.' '4' '.' '#' '#']\n",
      " ['#' '#' '.' '.' '.' '.' '.' '2' '.' '#' '#']\n",
      " ['#' '#' '.' '.' '.' '.' 'p' '7' '.' '#' '#']\n",
      " ['#' '#' '.' '.' '.' '.' '.' '1' '.' '#' '#']\n",
      " ['#' '#' '.' '.' '.' '.' '.' '.' '.' '#' '#']\n",
      " ['#' '#' '#' '#' '#' '#' '#' '#' '#' '#' '#']\n",
      " ['#' '#' '#' '#' '#' '#' '#' '#' '#' '#' '#']]\n",
      "Episode: 100, jugades 50, total_score: -718 , score: [1, 1, 1, 1, 1, 1, -100, -9, 1, 1, 1, 1, -100, 1, 1, 1, 1, -100, 1, 1, 1, -9, 1, 1, -100, 1, 20, -9, 1, -100, -9, 1, -100, 1, -9, 1, 1, -100, 1, -9, 1, 1, 1, -9, 1, 1, 1, -9, 1, 1], best_score: 20 eps: 0.953    \n",
      "[['#' '#' '#' '#' '#' '#' '#' '#' '#' '#' '#']\n",
      " ['#' '#' '#' '#' '#' '#' '#' '#' '#' '#' '#']\n",
      " ['#' '#' '.' '.' '.' '.' '.' '4' '.' '#' '#']\n",
      " ['#' '#' '.' '.' '.' 'p' '.' '2' '.' '#' '#']\n",
      " ['#' '#' '.' '.' '.' '.' '.' '7' '.' '#' '#']\n",
      " ['#' '#' '.' '.' '.' '.' '.' ',' '2' '#' '#']\n",
      " ['#' '#' '.' '.' '.' '.' '.' '.' '.' '#' '#']\n",
      " ['#' '#' '#' '#' '#' '#' '#' '#' '#' '#' '#']\n",
      " ['#' '#' '#' '#' '#' '#' '#' '#' '#' '#' '#']]\n",
      "Episode: 200, jugades 50, total_score: -1667 , score: [1, -9, 1, 1, -9, 1, 1, -100, 1, 20, -9, 1, -100, -100, -9, -9, 1, 1, 1, -100, 1, 1, -100, -100, -100, 1, -100, -100, -9, -9, -100, -100, -100, 1, 1, 1, 1, -9, -100, 1, -9, -9, -100, 1, 1, -100, -100, -9, -9, 1], best_score: 20 eps: 0.909    \n",
      "[['#' '#' '#' '#' '#' '#' '#' '#' '#' '#' '#']\n",
      " ['#' '#' '#' '#' '#' '#' '#' '#' '#' '#' '#']\n",
      " ['#' '#' '.' '.' '.' '.' '.' '4' '.' '#' '#']\n",
      " ['#' '#' '.' '.' '.' '.' '.' '2' '.' '#' '#']\n",
      " ['#' '#' '.' '.' '.' 'p' '.' '7' '.' '#' '#']\n",
      " ['#' '#' '.' '.' '.' '.' '.' ',' '2' '#' '#']\n",
      " ['#' '#' '.' '.' '.' '.' '.' '.' '.' '#' '#']\n",
      " ['#' '#' '#' '#' '#' '#' '#' '#' '#' '#' '#']\n",
      " ['#' '#' '#' '#' '#' '#' '#' '#' '#' '#' '#']]\n",
      "Episode: 300, jugades 50, total_score: -1233 , score: [1, 1, 1, 1, 1, 1, 1, 1, 1, -9, -9, 1, 1, 1, 1, 1, 1, -100, -9, -100, -9, -100, 1, 1, -100, 1, -100, 20, -9, 1, -100, -100, -100, -100, -100, -9, -9, -100, -9, 1, -9, 1, 1, 1, -100, 1, 1, 1, 1, 1], best_score: 20 eps: 0.867    \n",
      "[['#' '#' '#' '#' '#' '#' '#' '#' '#' '#' '#']\n",
      " ['#' '#' '#' '#' '#' '#' '#' '#' '#' '#' '#']\n",
      " ['#' '#' '.' '.' '.' '.' '.' '4' '.' '#' '#']\n",
      " ['#' '#' '.' '.' '.' '.' '4' ',' '.' '#' '#']\n",
      " ['#' '#' '.' '.' '.' '.' '.' '7' '.' '#' '#']\n",
      " ['#' '#' '.' '.' 'p' '.' '.' '1' '.' '#' '#']\n",
      " ['#' '#' '.' '.' '.' '.' '.' '.' '.' '#' '#']\n",
      " ['#' '#' '#' '#' '#' '#' '#' '#' '#' '#' '#']\n",
      " ['#' '#' '#' '#' '#' '#' '#' '#' '#' '#' '#']]\n"
     ]
    }
   ],
   "source": [
    "episodes=5000\n",
    "jugades=50\n",
    "rewards = []\n",
    "best_score = -100000\n",
    "tau_mode = False\n",
    "\n",
    "\n",
    "for episode in range(episodes):\n",
    "    state, info = snowman_env.reset()\n",
    "    #Convertim l'estat a un tensor. Fem unsqueeze perquè la xarxa neuronal s'espera un batch de mapes, i state es un sol mapa.\n",
    "    #Per tant li passem un batch de un sol mapa encapsulant en un array (o tensor)\n",
    "\n",
    "    #Separem les capes de l'estat (mapa) en una capa per cada tipus de casella:\n",
    "    #state = snowman_env.split_map_layers(state)\n",
    "\n",
    "    state = torch.tensor([state], dtype=torch.float32, device=device).unsqueeze(0)\n",
    "    act_rewards = []\n",
    "    nJuagades = 0\n",
    "    for jugada in range(jugades):\n",
    "        nJuagades = nJuagades+1\n",
    "        #Triem una accio segons la politica epsilon greedy\n",
    "        action = training_agent.select_action_epsilon_greedy(state, snowman_env)\n",
    "        next_state, reward, done, _ = snowman_env.step(action.item())\n",
    "        act_rewards.append(reward)\n",
    "        if reward >= best_score: # Not shown\n",
    "            best_score = reward # Not shown\n",
    "\n",
    "        #Conevrtim el reward a un tensor i el seguent state a un tensor, aixi ho guardem al replay_memory tot en tensors:\n",
    "        reward = torch.tensor([reward], device=device)\n",
    "        if done:\n",
    "            next_state = None\n",
    "        else:\n",
    "            #next_state = torch.tensor(snowman_env.split_map_layers(next_state), dtype=torch.float32, device=device).unsqueeze(0)\n",
    "            next_state = torch.tensor([next_state], dtype=torch.float32, device=device).unsqueeze(0)\n",
    "\n",
    "        \n",
    "        training_agent.replay_memory.push(state,action, next_state, reward)\n",
    "\n",
    "        #Anem al seguent estat\n",
    "        state = next_state\n",
    "\n",
    "        #OPTIMIZATION\n",
    "        training_agent.training_step()\n",
    "        \n",
    "\n",
    "\n",
    "        #Soft update: Quan actualitzem els pesos, actualitzem el TAU % del pes enlloc de \n",
    "        #copiar totalment el pes de cada parametre per evitar variacions massives i millorar la estabilitat:\n",
    "        target_net_state_dict = training_agent.target_net.state_dict()\n",
    "        policy_net_state_dict = training_agent.policy_net.state_dict()\n",
    "\n",
    "        #per tant iterem per cada pes de la xarxa que volem actualitzar, i fem que el seu pes sigui un cert\n",
    "        # percentatge (TAU) de la xarxa objectiu més el restant (1-TAU) de la seva pròpia. Si TAU és 0.01,\n",
    "        #copia el 1% del pes de l'objectiu i conserva l'altre 99%\n",
    "        if tau_mode:\n",
    "            for key in policy_net_state_dict:\n",
    "                target_net_state_dict[key] = policy_net_state_dict[key]*TAU + target_net_state_dict[key]*(1-TAU)\n",
    "                training_agent.target_net.load_state_dict(target_net_state_dict)\n",
    "        else:\n",
    "            if episode % 100 == 0:\n",
    "                training_agent.target_net.load_state_dict(training_agent.policy_net.state_dict())\n",
    "        \n",
    "        #print(\"epsilon: \",EPS_END + (EPS_START - EPS_END) * math.exp(-1. * training_agent.steps_done / EPS_DECAY))\n",
    "        #print(\"reward\", reward.item())\n",
    "        #snowman_env.show_map(SnowmanEnvironment.DECODED_TEXT_MODE)\n",
    "        if done:\n",
    "            break\n",
    "    rewards.append(sum(act_rewards))\n",
    "    if episode % 100 == 0:\n",
    "        eps = EPS_END + (EPS_START - EPS_END) * math.exp(-1. * training_agent.steps_done / EPS_DECAY)\n",
    "        print(\"\\rEpisode: {}, jugades {}, total_score: {} , score: {}, best_score: {} eps: {:.3f}    \\n\".format(episode, nJuagades, sum(act_rewards), act_rewards, best_score, eps), end=\"\")\n",
    "        snowman_env.show_map(SnowmanEnvironment.DECODED_TEXT_MODE)\n",
    "\n",
    "            \n",
    "\n"
   ]
  },
  {
   "cell_type": "markdown",
   "metadata": {},
   "source": []
  },
  {
   "cell_type": "markdown",
   "metadata": {},
   "source": []
  },
  {
   "cell_type": "code",
   "execution_count": null,
   "metadata": {},
   "outputs": [],
   "source": []
  },
  {
   "cell_type": "markdown",
   "metadata": {},
   "source": [
    "MOSTREM ELS RESULTATS (REWARDS)"
   ]
  },
  {
   "cell_type": "code",
   "execution_count": null,
   "metadata": {},
   "outputs": [
    {
     "data": {
      "image/png": "[encoded data removed]",
      "text/plain": [
       "<Figure size 800x400 with 1 Axes>"
      ]
     },
     "metadata": {},
     "output_type": "display_data"
    }
   ],
   "source": [
    "plt.figure(figsize=(8, 4))\n",
    "plt.plot(rewards)\n",
    "plt.xlabel(\"Episode\", fontsize=14)\n",
    "plt.ylabel(\"Sum of rewards\", fontsize=14)\n",
    "#save_fig(\"dqn_rewards_plot\")\n",
    "plt.show()"
   ]
  },
  {
   "cell_type": "code",
   "execution_count": null,
   "metadata": {},
   "outputs": [
    {
     "name": "stdout",
     "output_type": "stream",
     "text": [
      "[[ 0.  0.  0.  0.  0.  0.  0.  0.  0.  0.  0.]\n",
      " [ 0.  0.  0.  0.  0.  0.  0.  0.  0.  0.  0.]\n",
      " [ 0.  0.  9.  9.  9.  9.  9.  4.  9.  0.  0.]\n",
      " [ 0.  0.  9.  9.  9. 10.  9.  2.  9.  0.  0.]\n",
      " [ 0.  0.  9.  9.  9.  9.  9.  7.  9.  0.  0.]\n",
      " [ 0.  0.  9.  9.  9.  9.  9.  1.  9.  0.  0.]\n",
      " [ 0.  0.  9.  9.  9.  9.  9.  9.  9.  0.  0.]\n",
      " [ 0.  0.  0.  0.  0.  0.  0.  0.  0.  0.  0.]\n",
      " [ 0.  0.  0.  0.  0.  0.  0.  0.  0.  0.  0.]]\n",
      "[['#' '#' '#' '#' '#' '#' '#' '#' '#' '#' '#']\n",
      " ['#' '#' '#' '#' '#' '#' '#' '#' '#' '#' '#']\n",
      " ['#' '#' '.' '.' '.' '.' '.' '4' '.' '#' '#']\n",
      " ['#' '#' '.' '.' '.' 'p' '.' '2' '.' '#' '#']\n",
      " ['#' '#' '.' '.' '.' '.' '.' '7' '.' '#' '#']\n",
      " ['#' '#' '.' '.' '.' '.' '.' '1' '.' '#' '#']\n",
      " ['#' '#' '.' '.' '.' '.' '.' '.' '.' '#' '#']\n",
      " ['#' '#' '#' '#' '#' '#' '#' '#' '#' '#' '#']\n",
      " ['#' '#' '#' '#' '#' '#' '#' '#' '#' '#' '#']]\n"
     ]
    }
   ],
   "source": [
    "snowman_env.show_map(SnowmanEnvironment.ENCODED_TEXT_MODE)\n",
    "snowman_env.show_map(SnowmanEnvironment.DECODED_TEXT_MODE)"
   ]
  },
  {
   "cell_type": "code",
   "execution_count": null,
   "metadata": {},
   "outputs": [
    {
     "data": {
      "text/plain": [
       "\"\\nsnowman_env_test = SnowmanEnvironment(map_file='./Dades/facils/david-1.txt', \\n                                 n=9, m=9, \\n                                 stop_when_error=True, \\n                                 stop_when_dumb=True, \\n                                 enable_step_back_optimzation=True, \\n                                 enable_blocked_snowman_optimization=True)\\nprint(snowman_env_test.agent_position)\\nsnowman_env_test.show_map(SnowmanEnvironment.DECODED_TEXT_MODE)\\nsnowman_env_test.previous_agent_position = (4,4)\\nsnowman_env_test.agent_position = (4,3)\\na = snowman_env_test.adjust_reward(0,(4,4),[4,4],[3,4])\\nprint(a)\\n\""
      ]
     },
     "execution_count": 35,
     "metadata": {},
     "output_type": "execute_result"
    }
   ],
   "source": [
    "\"\"\"\n",
    "snowman_env_test = SnowmanEnvironment(map_file='./Dades/facils/david-1.txt', \n",
    "                                 n=9, m=9, \n",
    "                                 stop_when_error=True, \n",
    "                                 stop_when_dumb=True, \n",
    "                                 enable_step_back_optimzation=True, \n",
    "                                 enable_blocked_snowman_optimization=True)\n",
    "print(snowman_env_test.agent_position)\n",
    "snowman_env_test.show_map(SnowmanEnvironment.DECODED_TEXT_MODE)\n",
    "snowman_env_test.previous_agent_position = (4,4)\n",
    "snowman_env_test.agent_position = (4,3)\n",
    "a = snowman_env_test.adjust_reward(0,(4,4),[4,4],[3,4])\n",
    "print(a)\n",
    "\"\"\""
   ]
  }
 ],
 "metadata": {
  "kernelspec": {
   "display_name": "base",
   "language": "python",
   "name": "python3"
  },
  "language_info": {
   "codemirror_mode": {
    "name": "ipython",
    "version": 3
   },
   "file_extension": ".py",
   "mimetype": "text/x-python",
   "name": "python",
   "nbconvert_exporter": "python",
   "pygments_lexer": "ipython3",
   "version": "3.9.13"
  }
 },
 "nbformat": 4,
 "nbformat_minor": 2
}
