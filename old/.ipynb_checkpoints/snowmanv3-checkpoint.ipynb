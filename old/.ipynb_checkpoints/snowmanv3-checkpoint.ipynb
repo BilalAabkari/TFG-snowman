{
 "cells": [
  {
   "cell_type": "markdown",
   "metadata": {},
   "source": [
    "<table align=\"left\">\n",
    "  <td>\n",
    "    <a ref=\"C:/Users/josep/Snowman/Reforçat.ipynb\" target=\"_parent\"><img src=\"https://colab.research.google.com/assets/colab-badge.svg\" alt=\"Open In Colab\"/></a>\n",
    "  </td>\n",
    "  <td>\n",
    "    <a target=\"_blank\" ref=\"C:/Users/josep/Snowman/Reforçat.ipynb\"><img src=\"https://kaggle.com/static/images/open-in-kaggle.svg\" /></a>\n",
    "  </td>\n",
    "</table>\n",
    "\n"
   ]
  },
  {
   "cell_type": "code",
   "execution_count": 1,
   "metadata": {
    "id": "o2j3RSpxf_o4"
   },
   "outputs": [
    {
     "name": "stderr",
     "output_type": "stream",
     "text": [
      "C:\\Users\\bilal\\anaconda3\\lib\\site-packages\\scipy\\__init__.py:155: UserWarning: A NumPy version >=1.18.5 and <1.25.0 is required for this version of SciPy (detected version 1.26.2\n",
      "  warnings.warn(f\"A NumPy version >={np_minversion} and <{np_maxversion}\"\n"
     ]
    },
    {
     "name": "stdout",
     "output_type": "stream",
     "text": [
      "WARNING:tensorflow:From C:\\Users\\bilal\\anaconda3\\lib\\site-packages\\keras\\src\\losses.py:2976: The name tf.losses.sparse_softmax_cross_entropy is deprecated. Please use tf.compat.v1.losses.sparse_softmax_cross_entropy instead.\n",
      "\n"
     ]
    }
   ],
   "source": [
    "# Python ≥3.5 is required\n",
    "import sys\n",
    "assert sys.version_info >= (3, 5)\n",
    "\n",
    "# Scikit-Learn ≥0.20 is required\n",
    "import sklearn\n",
    "assert sklearn.__version__ >= \"0.20\"\n",
    "\n",
    "# TensorFlow ≥2.0 is required\n",
    "import tensorflow as tf\n",
    "from tensorflow import keras\n",
    "assert tf.__version__ >= \"2.0\"\n",
    "\n",
    "# Common imports\n",
    "import numpy as np\n",
    "import os\n",
    "import random\n",
    "import time\n",
    "from IPython.display import clear_output\n",
    "\n",
    "\n",
    "# to make this notebook's output stable across runs\n",
    "np.random.seed(42)\n",
    "tf.random.set_seed(42)\n",
    "\n",
    "# To plot pretty figures\n",
    "%matplotlib inline\n",
    "import matplotlib as mpl\n",
    "import matplotlib.pyplot as plt\n",
    "mpl.rc('axes', labelsize=14)\n",
    "mpl.rc('xtick', labelsize=12)\n",
    "mpl.rc('ytick', labelsize=12)\n",
    "\n",
    "n=8\n",
    "m=16\n",
    "\n",
    "from collections import deque\n",
    "\n",
    "replay_memory = deque(maxlen=2000)\n",
    "\n",
    "Mov=[0,0,0,0]"
   ]
  },
  {
   "cell_type": "markdown",
   "metadata": {},
   "source": [
    "Intern code:\n",
    "\n",
    "- 0 : out of grid and wall (x and #)\n",
    "- 1 : small ball\n",
    "- 2 : medium ball\n",
    "- 3 : small ball on top of a medium ball\n",
    "- 4 : large ball\n",
    "- 5 : small ball on top of a large ball\n",
    "- 6 : medium ball on top of a large ball\n",
    "- 7 : small ball on top of a medium ball on top of a large ball\n",
    "- 8 : grass (,)\n",
    "- 9 : snow (.)\n",
    "- 10: character with snow on the floor (p)\n",
    "- 11: character with grass on the floor (q)\n",
    "\n",
    "\n",
    "Reconpenses\n",
    "- 0 moure's sense apretar \n",
    "- 0 moure's apretant bola petita\n",
    "- 0 moure's apretant bola mitjana\n",
    "- 0 moure's apretant bola grossa\n",
    "- 100 col.locar bola mitjana sobre bola grossa\n",
    "- 500 col.locar bola petita sobre boles mitjnes i grosses\n",
    "- -1 Passar un instant \n",
    "\n",
    "Accions prohibides (-100 punts)\n",
    "- sortir de la quadricula (trepitjar pared)\n",
    "- fer sortir bola de la quadricula (trepitjar pared la bola)\n",
    "- fer 2 boles grans\n",
    "- fer dos boles mitjanes si ja tenim bola gran\n",
    "\n",
    "\n",
    "Maxim episodi=50 jugades, fins acció prohibida o col.locar tres boles be"
   ]
  },
  {
   "cell_type": "code",
   "execution_count": 2,
   "metadata": {},
   "outputs": [],
   "source": [
    "error=-10\n",
    "tonto=-10\n",
    "cami=0\n",
    "cim=50\n",
    "convertir=10\n",
    "bingo=200\n",
    "\n",
    "actions=[\n",
    "    [[None,None,None,error],[None,None,None,error],[None,None,None,error],[None,None,None,error],[None,None,None,error],[None,None,None,error],[None,None,None,error],[None,None,None,error],[None,None,None,error],[None,None,None,error]],\n",
    "    [[None,None,None,error],[None,None,None,tonto],['pq',11,3,cim],[None,None,None,tonto],['pq',11,5,cim],[None,None,None,tonto],['pq',11,7,bingo],[None,None,None,tonto],['pq',11,1,cami],['pq',11,2,convertir]],\n",
    "    [[None,None,None,error],[None,None,None,tonto],[None,None,None,tonto],[None,None,None,tonto],['pq',11,6,cim],[None,None,None,tonto],[None,None,None,tonto],[None,None,None,tonto],['pq',11,2,cami],['pq',11,4,convertir]],\n",
    "    [[None,None,None,error],[None,None,None,tonto],[None,None,None,tonto],[None,None,None,tonto],[None,None,None,tonto],[None,None,None,tonto],[None,None,None,tonto],[None,None,None,tonto],[None,2,1,-cim],[None,2,2,-cim]],\n",
    "    [[None,None,None,error],[None,None,None,tonto],[None,None,None,tonto],[None,None,None,tonto],[None,None,None,tonto],[None,None,None,tonto],[None,None,None,tonto],[None,None,None,tonto],['pq',11,4,cami],['pq',11,4,cami]],\n",
    "    [[None,None,None,error],[None,None,None,tonto],[None,None,None,tonto],[None,None,None,tonto],[None,None,None,tonto],[None,None,None,tonto],[None,None,None,tonto],[None,None,None,tonto],[None,4,1,-cim],[None,4,2,-cim]],\n",
    "    [[None,None,None,error],[None,None,None,tonto],[None,None,None,tonto],[None,None,None,tonto],[None,None,None,tonto],[None,None,None,tonto],[None,None,None,tonto],[None,None,None,tonto],[None,4,2,-cim],[None,4,4,-cim]],   \n",
    "    [[None,None,None,error],[None,None,None,error],[None,None,None,error],[None,None,None,error],[None,None,None,error],[None,None,None,error],[None,None,None,error],[None,None,None,error],[None,None,None,error],[None,None,None,error]],\n",
    "    [['pq',11,None,cami],['pq',11,None,cami],['pq',11,None,cami],['pq',11,None,cami],['pq',11,None,cami],['pq',11,None,cami],['pq',11,None,cami],['pq',11,None,tonto],['pq',11,None,cami],['pq',11,None,cami]],\n",
    "    [['pq',10,None,cami],['pq',10,None,cami],['pq',10,None,cami],['pq',10,None,cami],['pq',10,None,cami],['pq',10,None,cami],['pq',10,None,cami],['pq',10,None,tonto],['pq',10,None,cami],['pq',10,None,cami]]\n",
    "]\n",
    "\n"
   ]
  },
  {
   "cell_type": "markdown",
   "metadata": {},
   "source": []
  },
  {
   "cell_type": "code",
   "execution_count": 5,
   "metadata": {},
   "outputs": [],
   "source": [
    "ree='x#,.qp1234567'\n",
    "reem=[0,0,8,9,11,10,1,2,3,4,5,6,7]\n",
    "def lleguir_tauler(nom='C:/Users/josep/Snowman/Dades/suy2.txt',n=8,m=16):\n",
    "    f = open(nom, \"r\")\n",
    "    tauler=np.zeros((n,m))\n",
    "    for row,linea in enumerate(f):\n",
    "        linea=linea.rstrip('\\n\\r\\t')\n",
    "        for column,car in enumerate(linea):\n",
    "            res = ree.find(car)\n",
    "            tauler[row,column]=reem[res]\n",
    "    f.close()\n",
    "    return tauler\n",
    "\n",
    "n_outputs=4\n"
   ]
  },
  {
   "cell_type": "code",
   "execution_count": 6,
   "metadata": {},
   "outputs": [],
   "source": [
    "from sklearn.preprocessing import OneHotEncoder\n",
    "enc = OneHotEncoder(sparse=False)\n",
    "enc.fit([[0],[1],[2],[3]])\n",
    "\n",
    "HistMov=[0,0,0,0]"
   ]
  },
  {
   "cell_type": "code",
   "execution_count": 7,
   "metadata": {},
   "outputs": [],
   "source": [
    "def step(t,action): # 0 dreta, 1 baix, 2 esquerra, 3 dalt\n",
    "    snow=True\n",
    "    res = np.where(t == 10)\n",
    "    if np.size(res)==0: # and np.size(res[1])==0:\n",
    "        snow=False\n",
    "        res = np.where(t == 11)\n",
    "    a=res[0]\n",
    "    b=res[1]\n",
    "    #print(\"a,b\",a,b,t[a,b],snow)\n",
    "    inc=[[0,1,0,-1],[1,0,-1,0]]\n",
    "    seg=[a+inc[0][action],b+inc[1][action]]\n",
    "    seg2=[a+2*inc[0][action],b+2*inc[1][action]]\n",
    "\n",
    "    Mov[action]=Mov[action]+1\n",
    "\n",
    "    mov=actions[int(t[seg[0],seg[1]])][int(t[seg2[0],seg2[1]])]\n",
    "    reward=mov[3]\n",
    "    mov=mov[:3]\n",
    "    for i,aux in enumerate(mov):\n",
    "        if aux!=None:\n",
    "            if aux=='pq':\n",
    "                if snow:\n",
    "                    f=9\n",
    "                else:\n",
    "                    f=8\n",
    "            else:\n",
    "                f=int(aux)\n",
    "\n",
    "            if i==0:\n",
    "                t[a,b]=f\n",
    "            elif i==1:\n",
    "                t[seg[0],seg[1]]=f\n",
    "            else:\n",
    "                t[seg2[0],seg2[1]]=f\n",
    "    if reward==-77:\n",
    "        if snow:\n",
    "            t[a,b]=9\n",
    "        else:\n",
    "            t[a,b]=8\n",
    "        a=random.randint(0,n-1)\n",
    "        b=random.randint(0,m-1)\n",
    "        while t[a,b]!=8 and t[a,b]!=9:\n",
    "            a=random.randint(0,n-1)\n",
    "            b=random.randint(0,m-1)\n",
    "        if t[a,b]==8:\n",
    "            t[a,b]=11\n",
    "        else:\n",
    "            t[a,b]=10\n",
    "    if reward==bingo or reward<=tonto:\n",
    "        done=True\n",
    "    else:\n",
    "        done=False\n",
    "\n",
    "    return t,reward,done\n",
    "\n",
    "\n"
   ]
  },
  {
   "cell_type": "code",
   "execution_count": 8,
   "metadata": {},
   "outputs": [],
   "source": [
    "def arreglar_tauler(t):\n",
    "    t2=t.copy()\n",
    "    res = np.where(t2 == 11)\n",
    "    if np.size(res)!=0:\n",
    "        t2[res[0],res[1]]=10\n",
    "    t2=t2/10.\n",
    "    return t2"
   ]
  },
  {
   "cell_type": "code",
   "execution_count": 9,
   "metadata": {
    "id": "rfaXj3ihf_pJ"
   },
   "outputs": [],
   "source": [
    "\n",
    "from random import choices\n",
    "from sklearn.preprocessing import OneHotEncoder\n",
    "enc = OneHotEncoder(sparse=False)\n",
    "enc.fit([[0],[1],[2],[3]])\n",
    "\n",
    "\n",
    "def possible(t,act,antact,antreward):\n",
    "    pos=True\n",
    "    if (act==0 and antact==2) or (act==2 and antact==0) or (act==1 and antact==3) or (act==3 and antact==1):\n",
    "        if antreward<=cami:\n",
    "            pos=False\n",
    "    if act==antact and  antreward<=tonto:\n",
    "        pos=False\n",
    "    return pos\n",
    "\n"
   ]
  },
  {
   "cell_type": "code",
   "execution_count": 10,
   "metadata": {},
   "outputs": [],
   "source": [
    "def epsilon_greedy_policy(t, epsilon=0):\n",
    "    if np.random.rand() < epsilon:\n",
    "        return np.random.randint(n_outputs)\n",
    "    else:\n",
    "        Q_values = model.predict(arreglar_tauler(t)[np.newaxis])\n",
    "        return np.argmax(Q_values[0])\n"
   ]
  },
  {
   "cell_type": "code",
   "execution_count": null,
   "metadata": {},
   "outputs": [],
   "source": [
    "tf.keras.backend.clear_session()\n",
    "np.random.seed(13)\n",
    "tf.random.set_seed(13)\n",
    "model_base = tf.keras.models.load_model('C:/Users/josep/Snowman/encoder.h5')\n",
    "model_base.trainable=True\n",
    "\n",
    "model=tf.keras.models.Sequential([\n",
    "    model_base,\n",
    "    tf.keras.layers.Dense(64,activation='tanh'),\n",
    "    tf.keras.layers.Dense(4)\n",
    "])\n",
    "print(model.summary())"
   ]
  },
  {
   "cell_type": "code",
   "execution_count": null,
   "metadata": {},
   "outputs": [],
   "source": []
  },
  {
   "cell_type": "code",
   "execution_count": null,
   "metadata": {},
   "outputs": [],
   "source": [
    "def sample_experiences(batch_size):\n",
    "    indices = np.random.randint(len(replay_memory), size=batch_size)\n",
    "    batch = [replay_memory[index] for index in indices]\n",
    "    states, actions, rewards, next_states, dones = [\n",
    "        np.array([experience[field_index] for experience in batch])\n",
    "        for field_index in range(5)]\n",
    "    return states, actions, rewards, next_states, dones"
   ]
  },
  {
   "cell_type": "code",
   "execution_count": null,
   "metadata": {},
   "outputs": [],
   "source": [
    "def play_one_step(t, epsilon):\n",
    "    action = epsilon_greedy_policy(t, epsilon)\n",
    "    next_t, reward, done= step(t,tf.constant(action))\n",
    "    replay_memory.append((t, action, reward, next_t, done))\n",
    "    return next_t, reward, done\n",
    "\n",
    "\n"
   ]
  },
  {
   "cell_type": "code",
   "execution_count": null,
   "metadata": {},
   "outputs": [],
   "source": [
    "batch_size = 128\n",
    "discount_rate = 0.95\n",
    "optimizer = keras.optimizers.Adam(learning_rate=1e-2)\n",
    "loss_fn = keras.losses.mean_squared_error\n",
    "\n",
    "def training_step(batch_size):\n",
    "    experiences = sample_experiences(batch_size)\n",
    "    states, actions, rewards, next_states, dones = experiences\n",
    "    next_Q_values = model.predict(arreglar_tauler(next_states))\n",
    "    max_next_Q_values = np.max(next_Q_values, axis=1)\n",
    "    target_Q_values = (rewards +\n",
    "                       (1 - dones) * discount_rate * max_next_Q_values)\n",
    "    target_Q_values = target_Q_values.reshape(-1, 1)\n",
    "    mask = tf.one_hot(actions, n_outputs)\n",
    "    with tf.GradientTape() as tape:\n",
    "        all_Q_values = model(arreglar_tauler(states))\n",
    "        Q_values = tf.reduce_sum(all_Q_values * mask, axis=1, keepdims=True)\n",
    "        loss = tf.reduce_mean(loss_fn(target_Q_values, Q_values))\n",
    "    grads = tape.gradient(loss, model.trainable_variables)\n",
    "    optimizer.apply_gradients(zip(grads, model.trainable_variables))"
   ]
  },
  {
   "cell_type": "code",
   "execution_count": null,
   "metadata": {},
   "outputs": [],
   "source": [
    "def prova():\n",
    "    tauler=lleguir_tauler('C:/Users/josep/Snowman/Dades/suy.txt',n=n,m=m)\n",
    "    print(tauler)\n",
    "    time.sleep(2)\n",
    "    clear_output(wait=True)\n",
    "    sum_rewards=0\n",
    "\n",
    "    for i in range(50):    \n",
    "        action=np.argmax(model.predict(arreglar_tauler(tauler)[np.newaxis,:,:]).squeeze())\n",
    "        clear_output(wait=True)\n",
    "        tauler, reward, done = step(tauler,action)\n",
    "        sum_rewards+=reward\n",
    "        print(action,i,sum_rewards)\n",
    "        print(tauler)\n",
    "        time.sleep(1)\n",
    "    #clear_output(wait=True)"
   ]
  },
  {
   "cell_type": "code",
   "execution_count": null,
   "metadata": {},
   "outputs": [],
   "source": [
    "np.random.seed(13)\n",
    "tf.random.set_seed(13)\n",
    "\n",
    "rewards = [] \n",
    "best_score = -100000\n",
    "episodes=15000\n",
    "jugades=30\n",
    "\n",
    "for episode in range(episodes):\n",
    "    if episode%3==0:\n",
    "        nom='C:/Users/josep/Snowman/Dades/suy.txt'\n",
    "    elif episode%3==1:\n",
    "        nom='C:/Users/josep/Snowman/Dades/suy2.txt'\n",
    "    else:\n",
    "        nom='C:/Users/josep/Snowman/Dades/suy3.txt'\n",
    "    t=lleguir_tauler(nom)   \n",
    "    epsilon = max(1 - episode / 25000, 0.01)\n",
    "    act_rewards=[]\n",
    "    for st in range(jugades):\n",
    "        t, reward, done  = play_one_step(t, epsilon)\n",
    "        act_rewards.append(reward)\n",
    "        if done:\n",
    "            break\n",
    "    score=sum(act_rewards)\n",
    "    rewards.append(score) # Not shown in the book\n",
    "    if score >= best_score: # Not shown\n",
    "        best_weights = model.get_weights() # Not shown\n",
    "        best_score = score # Not shown\n",
    "    print(\"\\rEpisode: {}, score: {}, best_score: {} eps: {:.3f} mov: {}      \".format(episode, score, best_score, epsilon, Mov), end=\"\") # Not shown\n",
    "    if episode > 50:\n",
    "        training_step(batch_size)\n",
    "\n",
    "model.set_weights(best_weights)"
   ]
  },
  {
   "cell_type": "markdown",
   "metadata": {},
   "source": []
  },
  {
   "cell_type": "code",
   "execution_count": 33,
   "metadata": {},
   "outputs": [
    {
     "data": {
      "image/png": "[encoded data removed]",
      "text/plain": [
       "<Figure size 576x288 with 1 Axes>"
      ]
     },
     "metadata": {
      "needs_background": "light"
     },
     "output_type": "display_data"
    }
   ],
   "source": [
    "plt.figure(figsize=(8, 4))\n",
    "plt.plot(rewards)\n",
    "plt.xlabel(\"Episode\", fontsize=14)\n",
    "plt.ylabel(\"Sum of rewards\", fontsize=14)\n",
    "#save_fig(\"dqn_rewards_plot\")\n",
    "plt.show()"
   ]
  },
  {
   "cell_type": "code",
   "execution_count": 35,
   "metadata": {},
   "outputs": [
    {
     "name": "stdout",
     "output_type": "stream",
     "text": [
      "2 8 -70\n",
      "[[ 0.  0.  0.  0.  0.  0.  0.  0.  0.  0.  0.  0.  0.  0.  0.  0.]\n",
      " [ 0. 11.  8.  8.  9.  9.  0.  0.  0.  0.  0.  0.  0.  0.  0.  0.]\n",
      " [ 0.  8.  8.  1.  8.  8.  0.  0.  0.  0.  0.  0.  0.  0.  0.  0.]\n",
      " [ 0.  8.  9.  9.  9.  8.  0.  0.  0.  0.  0.  0.  0.  0.  0.  0.]\n",
      " [ 0.  8.  9.  4.  1.  8.  0.  0.  0.  0.  0.  0.  0.  0.  0.  0.]\n",
      " [ 0.  0.  0.  0.  0.  0.  0.  0.  0.  0.  0.  0.  0.  0.  0.  0.]\n",
      " [ 0.  0.  0.  0.  0.  0.  0.  0.  0.  0.  0.  0.  0.  0.  0.  0.]\n",
      " [ 0.  0.  0.  0.  0.  0.  0.  0.  0.  0.  0.  0.  0.  0.  0.  0.]]\n"
     ]
    },
    {
     "ename": "KeyboardInterrupt",
     "evalue": "",
     "output_type": "error",
     "traceback": [
      "\u001b[1;31m---------------------------------------------------------------------------\u001b[0m",
      "\u001b[1;31mKeyboardInterrupt\u001b[0m                         Traceback (most recent call last)",
      "\u001b[1;32m~\\AppData\\Local\\Temp/ipykernel_9632/419917716.py\u001b[0m in \u001b[0;36m<module>\u001b[1;34m\u001b[0m\n\u001b[0;32m      1\u001b[0m \u001b[0mmodel\u001b[0m\u001b[1;33m.\u001b[0m\u001b[0mset_weights\u001b[0m\u001b[1;33m(\u001b[0m\u001b[0mbest_weights\u001b[0m\u001b[1;33m)\u001b[0m\u001b[1;33m\u001b[0m\u001b[1;33m\u001b[0m\u001b[0m\n\u001b[1;32m----> 2\u001b[1;33m \u001b[0mprova\u001b[0m\u001b[1;33m(\u001b[0m\u001b[1;33m)\u001b[0m\u001b[1;33m\u001b[0m\u001b[1;33m\u001b[0m\u001b[0m\n\u001b[0m\u001b[0;32m      3\u001b[0m \u001b[0mmodel\u001b[0m\u001b[1;33m.\u001b[0m\u001b[0msave\u001b[0m\u001b[1;33m(\u001b[0m\u001b[1;34m'dqn1.h5'\u001b[0m\u001b[1;33m)\u001b[0m\u001b[1;33m\u001b[0m\u001b[1;33m\u001b[0m\u001b[0m\n",
      "\u001b[1;32m~\\AppData\\Local\\Temp/ipykernel_9632/1959932966.py\u001b[0m in \u001b[0;36mprova\u001b[1;34m()\u001b[0m\n\u001b[0;32m     13\u001b[0m         \u001b[0mprint\u001b[0m\u001b[1;33m(\u001b[0m\u001b[0maction\u001b[0m\u001b[1;33m,\u001b[0m\u001b[0mi\u001b[0m\u001b[1;33m,\u001b[0m\u001b[0msum_rewards\u001b[0m\u001b[1;33m)\u001b[0m\u001b[1;33m\u001b[0m\u001b[1;33m\u001b[0m\u001b[0m\n\u001b[0;32m     14\u001b[0m         \u001b[0mprint\u001b[0m\u001b[1;33m(\u001b[0m\u001b[0mtauler\u001b[0m\u001b[1;33m)\u001b[0m\u001b[1;33m\u001b[0m\u001b[1;33m\u001b[0m\u001b[0m\n\u001b[1;32m---> 15\u001b[1;33m         \u001b[0mtime\u001b[0m\u001b[1;33m.\u001b[0m\u001b[0msleep\u001b[0m\u001b[1;33m(\u001b[0m\u001b[1;36m1\u001b[0m\u001b[1;33m)\u001b[0m\u001b[1;33m\u001b[0m\u001b[1;33m\u001b[0m\u001b[0m\n\u001b[0m\u001b[0;32m     16\u001b[0m     \u001b[1;31m#clear_output(wait=True)\u001b[0m\u001b[1;33m\u001b[0m\u001b[1;33m\u001b[0m\u001b[1;33m\u001b[0m\u001b[0m\n",
      "\u001b[1;31mKeyboardInterrupt\u001b[0m: "
     ]
    }
   ],
   "source": [
    "model.set_weights(best_weights)\n",
    "prova()\n",
    "model.save('dqn1.h5')"
   ]
  },
  {
   "cell_type": "code",
   "execution_count": null,
   "metadata": {},
   "outputs": [],
   "source": [
    "print(best_score)\n"
   ]
  },
  {
   "cell_type": "code",
   "execution_count": null,
   "metadata": {},
   "outputs": [],
   "source": []
  }
 ],
 "metadata": {
  "colab": {
   "name": "Copia de 18_reinforcement_learning.ipynb",
   "provenance": [
    {
     "file_id": "https://github.com/ageron/handson-ml2/blob/master/18_reinforcement_learning.ipynb",
     "timestamp": 1643739375886
    }
   ]
  },
  "kernelspec": {
   "display_name": "Python 3 (ipykernel)",
   "language": "python",
   "name": "python3"
  },
  "language_info": {
   "codemirror_mode": {
    "name": "ipython",
    "version": 3
   },
   "file_extension": ".py",
   "mimetype": "text/x-python",
   "name": "python",
   "nbconvert_exporter": "python",
   "pygments_lexer": "ipython3",
   "version": "3.9.13"
  }
 },
 "nbformat": 4,
 "nbformat_minor": 1
}
