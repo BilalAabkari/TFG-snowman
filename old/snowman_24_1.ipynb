{
  "cells": [
    {
      "cell_type": "code",
      "execution_count": 22,
      "metadata": {
        "id": "o2j3RSpxf_o4"
      },
      "outputs": [],
      "source": [
        "import sys\n",
        "import sklearn\n",
        "import tensorflow as tf\n",
        "from tensorflow import keras\n",
        "\n",
        "\n",
        "# Common imports\n",
        "import numpy as np\n",
        "import os\n",
        "import random\n",
        "import time\n",
        "from IPython.display import clear_output\n",
        "\n",
        "\n",
        "# to make this notebook's output stable across runs\n",
        "np.random.seed(42)\n",
        "tf.random.set_seed(42)\n",
        "\n",
        "# To plot pretty figures\n",
        "%matplotlib inline\n",
        "import matplotlib as mpl\n",
        "import matplotlib.pyplot as plt\n",
        "mpl.rc('axes', labelsize=14)\n",
        "mpl.rc('xtick', labelsize=12)\n",
        "mpl.rc('ytick', labelsize=12)\n",
        "\n",
        "n=10\n",
        "m=10\n",
        "\n",
        "from collections import deque\n",
        "\n",
        "replay_memory = deque(maxlen=20000)\n"
      ]
    },
    {
      "cell_type": "code",
      "execution_count": 23,
      "metadata": {
        "id": "yFIN_6Ej85DB",
        "colab": {
          "base_uri": "https://localhost:8080/"
        },
        "outputId": "504c8451-17fa-4f67-db44-70073b97a0f9"
      },
      "outputs": [
        {
          "output_type": "stream",
          "name": "stdout",
          "text": [
            "Drive already mounted at /content/drive; to attempt to forcibly remount, call drive.mount(\"/content/drive\", force_remount=True).\n"
          ]
        }
      ],
      "source": [
        "from google.colab import drive\n",
        "\n",
        "\n",
        "drive.mount('/content/drive')"
      ]
    },
    {
      "cell_type": "markdown",
      "metadata": {
        "id": "lkigPxqV74f8"
      },
      "source": [
        "Intern code:\n",
        "\n",
        "- 0 : out of grid and wall (x and #)\n",
        "- 1 : small ball\n",
        "- 2 : medium ball\n",
        "- 3 : small ball on top of a medium ball\n",
        "- 4 : large ball\n",
        "- 5 : small ball on top of a large ball\n",
        "- 6 : medium ball on top of a large ball\n",
        "- 7 : small ball on top of a medium ball on top of a large ball\n",
        "- 8 : grass (,)\n",
        "- 9 : snow (.)\n",
        "- 10: character with snow on the floor (p) (aquest no compte a la matriu d'accions)\n",
        "- 11: character with grass on the floor (q) (aquest no compte a la matriu d'accions)\n",
        "\n",
        "\n",
        "Reconpenses\n",
        "- 0 moure's sense apretar\n",
        "- 0 moure's apretant bola petita\n",
        "- 0 moure's apretant bola mitjana\n",
        "- 0 moure's apretant bola grossa\n",
        "- 100 col.locar bola mitjana sobre bola grossa\n",
        "- 500 col.locar bola petita sobre boles mitjnes i grosses\n",
        "- -1 Passar un instant\n",
        "\n",
        "Accions prohibides (-100 punts)\n",
        "- sortir de la quadricula (trepitjar pared)\n",
        "- fer sortir bola de la quadricula (trepitjar pared la bola)\n",
        "- fer 2 boles grans\n",
        "- fer dos boles mitjanes si ja tenim bola gran\n",
        "\n",
        "\n",
        "Maxim episodi=50 jugades, fins acció prohibida o col.locar tres boles be"
      ]
    },
    {
      "cell_type": "code",
      "execution_count": 24,
      "metadata": {
        "id": "IYvMxr-574gD",
        "colab": {
          "base_uri": "https://localhost:8080/",
          "height": 127
        },
        "outputId": "dc426431-d0de-4bba-d984-7b4b7087d1ce"
      },
      "outputs": [
        {
          "output_type": "execute_result",
          "data": {
            "text/plain": [
              "\"\\nEs tracta d'una matriu de 10x10 la primera dimensió es que hi ha a la posició seguent al jugador (home) i la segona que hi ha a la posició seguent de la seguent del jugador\\nsegons l'accio que hem agafat (action = 0 dreta, 1 baix, 2 esquerra, 3 dalt)\\nEs de 10x10 ja que, el 10 i el 11 es impossible que estiguin a la posició seguent i seguent de la sefgent, ja que tant sols tenim un jugador i aquest esta en la\\nposició actual\\nLa tercera dimensió de la matriu significa que cal fer amb la posició del jugador, la posició seguent del jugador, la posició següent de la seguent i la recompensa.\\npq, significa que si el jugador actual esta sobre snow, o sigui un 10, al avancar hem de torna a possar un 10 i si estar sobre grass, o sigui un 11, al avançar hem de tornar a possar un 11\\n\""
            ],
            "application/vnd.google.colaboratory.intrinsic+json": {
              "type": "string"
            }
          },
          "metadata": {},
          "execution_count": 24
        }
      ],
      "source": [
        "error=-100\n",
        "tonto=-10\n",
        "cami=10\n",
        "cim=500\n",
        "convertir=100\n",
        "bingo=2000\n",
        "\n",
        "actions=[\n",
        "    [[None,None,None,error],[None,None,None,error],[None,None,None,error],[None,None,None,error],[None,None,None,error],[None,None,None,error],[None,None,None,error],[None,None,None,error],[None,None,None,error],[None,None,None,error]],\n",
        "    [[None,None,None,error],[None,None,None,tonto],['pq',11,3,cim],[None,None,None,tonto],['pq',11,5,cim],[None,None,None,tonto],['pq',11,7,bingo],[None,None,None,tonto],['pq',11,1,cami],['pq',11,2,convertir]],\n",
        "    [[None,None,None,error],[None,None,None,tonto],[None,None,None,tonto],[None,None,None,tonto],['pq',11,6,cim],[None,None,None,tonto],[None,None,None,tonto],[None,None,None,tonto],['pq',11,2,cami],['pq',11,4,convertir]],\n",
        "    [[None,None,None,error],[None,None,None,tonto],[None,None,None,tonto],[None,None,None,tonto],[None,None,None,tonto],[None,None,None,tonto],[None,None,None,tonto],[None,None,None,tonto],[None,2,1,-cim],[None,2,2,-cim]],\n",
        "    [[None,None,None,error],[None,None,None,tonto],[None,None,None,tonto],[None,None,None,tonto],[None,None,None,tonto],[None,None,None,tonto],[None,None,None,tonto],[None,None,None,tonto],['pq',11,4,cami],['pq',11,4,cami]],\n",
        "    [[None,None,None,error],[None,None,None,tonto],[None,None,None,tonto],[None,None,None,tonto],[None,None,None,tonto],[None,None,None,tonto],[None,None,None,tonto],[None,None,None,tonto],[None,4,1,-cim],[None,4,2,-cim]],\n",
        "    [[None,None,None,error],[None,None,None,tonto],[None,None,None,tonto],[None,None,None,tonto],[None,None,None,tonto],[None,None,None,tonto],[None,None,None,tonto],[None,None,None,tonto],[None,4,2,-cim],[None,4,4,-cim]],\n",
        "    [[None,None,None,error],[None,None,None,error],[None,None,None,error],[None,None,None,error],[None,None,None,error],[None,None,None,error],[None,None,None,error],[None,None,None,error],[None,None,None,error],[None,None,None,error]],\n",
        "    [['pq',11,None,cami],['pq',11,None,cami],['pq',11,None,cami],['pq',11,None,cami],['pq',11,None,cami],['pq',11,None,cami],['pq',11,None,cami],['pq',11,None,tonto],['pq',11,None,cami],['pq',11,None,cami]],\n",
        "    [['pq',10,None,cami],['pq',10,None,cami],['pq',10,None,cami],['pq',10,None,cami],['pq',10,None,cami],['pq',10,None,cami],['pq',10,None,cami],['pq',10,None,tonto],['pq',10,None,cami],['pq',10,None,cami]]\n",
        "]\n",
        "\n",
        "'''\n",
        "Es tracta d'una matriu de 10x10 la primera dimensió es que hi ha a la posició seguent al jugador (home) i la segona que hi ha a la posició seguent de la seguent del jugador\n",
        "segons l'accio que hem agafat (action = 0 dreta, 1 baix, 2 esquerra, 3 dalt)\n",
        "Es de 10x10 ja que, el 10 i el 11 es impossible que estiguin a la posició seguent i seguent de la sefgent, ja que tant sols tenim un jugador i aquest esta en la\n",
        "posició actual\n",
        "La tercera dimensió de la matriu significa que cal fer amb la posició del jugador, la posició seguent del jugador, la posició següent de la seguent i la recompensa.\n",
        "pq, significa que si el jugador actual esta sobre snow, o sigui un 10, al avancar hem de torna a possar un 10 i si estar sobre grass, o sigui un 11, al avançar hem de tornar a possar un 11\n",
        "'''\n"
      ]
    },
    {
      "cell_type": "markdown",
      "metadata": {
        "id": "_wKe_yWf74gF"
      },
      "source": []
    },
    {
      "cell_type": "code",
      "execution_count": 25,
      "metadata": {
        "id": "GBJLRKea74gL"
      },
      "outputs": [],
      "source": [
        "ree='x#,.qp1234567'\n",
        "reem=[0,0,8,9,11,10,1,2,3,4,5,6,7]\n",
        "def lleguir_tauler(nom='C:/Users/josep/Snowman/Dades/suy2.txt',n=n,m=m):\n",
        "    f = open(nom, \"r\")\n",
        "    tauler=np.zeros((n,m))\n",
        "    for row,linea in enumerate(f):\n",
        "        linea=linea.rstrip('\\n\\r\\t')\n",
        "        for column,car in enumerate(linea):\n",
        "            res = ree.find(car)\n",
        "            tauler[row,column]=reem[res]\n",
        "    f.close()\n",
        "    return tauler\n",
        "\n",
        "n_outputs=4\n"
      ]
    },
    {
      "cell_type": "code",
      "execution_count": 26,
      "metadata": {
        "id": "8oRHcSoc74gN"
      },
      "outputs": [],
      "source": [
        "def step(t,action): # action = 0 dreta, 1 baix, 2 esquerra, 3 dalt\n",
        "    snow=True\n",
        "    res = np.where(t == 10) #si el jugador esta sobre snow\n",
        "    if np.size(res)==0:\n",
        "        snow=False\n",
        "        res = np.where(t == 11) #si el jugador esta grass\n",
        "    #posició del jugador t[a,b]\n",
        "\n",
        "    a=res[0]\n",
        "    b=res[1]\n",
        "\n",
        "\n",
        "    inc=[[0,1,0,-1],[1,0,-1,0]]\n",
        "    seg=[a+inc[0][action],b+inc[1][action]] #seguent posició segons l'acció a realitzar\n",
        "    seg2=[a+2*inc[0][action],b+2*inc[1][action]] #seguent de la seguent posició segons l'acció a realitzar\n",
        "\n",
        "    #print(seg,seg2,t.shape)\n",
        "\n",
        "    mov=actions[int(t[seg[0],seg[1]])][int(t[seg2[0],seg2[1]])] #busca a la matri d'acions segons el que hi ha a la posició seguent i la seguent de la seguent\n",
        "    '''print(int(t[seg[0],seg[1]]),int(t[seg2[0],seg2[1]]))\n",
        "    print(mov)\n",
        "    aa=input()'''\n",
        "    reward=mov[3] # la tercera psosició es la recompensa\n",
        "    mov=mov[:3] # les tres primeres posicions son que hem de col.locar a la posició del jugador, la posició seguent i la posició seguent de la seguent\n",
        "\n",
        "    for i,aux in enumerate(mov):\n",
        "        if aux!=None:\n",
        "            if aux=='pq':\n",
        "                if snow:\n",
        "                    f=9\n",
        "                else:\n",
        "                    f=8\n",
        "            else:\n",
        "                f=int(aux)\n",
        "            #print('f:',f)\n",
        "            if i==0:\n",
        "                t[a,b]=f\n",
        "            elif i==1:\n",
        "                t[seg[0],seg[1]]=f\n",
        "            else:\n",
        "                t[seg2[0],seg2[1]]=f\n",
        "    if reward==bingo or reward<=tonto:\n",
        "        done=True\n",
        "    else:\n",
        "        done=False\n",
        "\n",
        "    return t,reward,done\n",
        "\n",
        "\n"
      ]
    },
    {
      "cell_type": "code",
      "execution_count": 27,
      "metadata": {
        "id": "B_gxu9KX74gO"
      },
      "outputs": [],
      "source": [
        "'''def arreglar_tauler(t): # Passo cada posicio del tauler a l'interval [0,1]\n",
        "    t2=t.copy()\n",
        "    res = np.where(t2 == 11)\n",
        "    if np.size(res)!=0:\n",
        "        t2[res[0],res[1]]=10\n",
        "    t2=t2/10.\n",
        "    return t2\n",
        "\n",
        "# Aquesta funció s'ha de modificar i que doni un taula de 12 de profunditat'''\n",
        "\n",
        "\n",
        "\n",
        "transform=[[0],[4],[5],[4,5],[6],[4,6],[5,6],[4,5,6],[2],[1],[1,3],[2,3]]\n",
        "\n",
        "def arreglar_tauler(t): #dimensions: 0 pared, 1 neu, 2 herba, 3 jugador, 4 bola petita, 5 bola mitjana, 6 bola gran\n",
        "    tauler=np.zeros((n, m, 7))\n",
        "    for i in range(n):\n",
        "      for j in range(m):\n",
        "        for k in transform[int(t[i][j])]:\n",
        "          tauler[i,j,k]=1\n",
        "    return tauler\n"
      ]
    },
    {
      "cell_type": "code",
      "execution_count": 27,
      "metadata": {
        "id": "rfdjD0CUfWYg"
      },
      "outputs": [],
      "source": [
        "\n"
      ]
    },
    {
      "cell_type": "code",
      "execution_count": 27,
      "metadata": {
        "id": "rfaXj3ihf_pJ"
      },
      "outputs": [],
      "source": [
        "\n",
        "\n",
        "\n",
        "\n",
        "\n",
        "\n"
      ]
    },
    {
      "cell_type": "code",
      "execution_count": 28,
      "metadata": {
        "id": "U4tKDmMD74gW"
      },
      "outputs": [],
      "source": [
        "def epsilon_greedy_policy(t, epsilon=0):\n",
        "    if np.random.rand() < epsilon:\n",
        "        return np.random.randint(n_outputs)\n",
        "    else:\n",
        "        Q_values = model.predict(arreglar_tauler(t)[np.newaxis],verbose=0)\n",
        "        return np.argmax(Q_values[0])\n"
      ]
    },
    {
      "cell_type": "code",
      "execution_count": 29,
      "metadata": {
        "id": "4ozwiaH174gX",
        "colab": {
          "base_uri": "https://localhost:8080/"
        },
        "outputId": "f45867ef-5325-443f-f7ec-a1004b18865b"
      },
      "outputs": [
        {
          "output_type": "stream",
          "name": "stdout",
          "text": [
            "Model: \"sequential\"\n",
            "_________________________________________________________________\n",
            " Layer (type)                Output Shape              Param #   \n",
            "=================================================================\n",
            " conv2d (Conv2D)             (None, 10, 10, 8)         512       \n",
            "                                                                 \n",
            " flatten (Flatten)           (None, 800)               0         \n",
            "                                                                 \n",
            " dense (Dense)               (None, 16)                12816     \n",
            "                                                                 \n",
            " dense_1 (Dense)             (None, 4)                 68        \n",
            "                                                                 \n",
            "=================================================================\n",
            "Total params: 13396 (52.33 KB)\n",
            "Trainable params: 13396 (52.33 KB)\n",
            "Non-trainable params: 0 (0.00 Byte)\n",
            "_________________________________________________________________\n",
            "None\n"
          ]
        }
      ],
      "source": [
        "tf.keras.backend.clear_session()\n",
        "np.random.seed(13)\n",
        "tf.random.set_seed(13)\n",
        "\n",
        "\n",
        "model=tf.keras.models.Sequential([\n",
        "    tf.keras.layers.Conv2D(8,(3,3),activation='tanh',padding='same',input_shape=(n,m,7)),\n",
        "    #tf.keras.layers.Conv2D(32,(3,3),activation='tanh',padding='same'),\n",
        "    tf.keras.layers.Flatten(),\n",
        "    #tf.keras.layers.Dense(128,activation='tanh'),\n",
        "    tf.keras.layers.Dense(16,activation='tanh'),\n",
        "    tf.keras.layers.Dense(4,activation='softmax')\n",
        "])\n",
        "print(model.summary())\n",
        "\n",
        "target = keras.models.clone_model(model)\n",
        "target.set_weights(model.get_weights())"
      ]
    },
    {
      "cell_type": "code",
      "execution_count": 29,
      "metadata": {
        "id": "qKPQ-3vw74gZ"
      },
      "outputs": [],
      "source": []
    },
    {
      "cell_type": "code",
      "execution_count": 30,
      "metadata": {
        "id": "1TyN9GrI74gZ"
      },
      "outputs": [],
      "source": [
        "def sample_experiences(batch_size):\n",
        "    indices = np.random.randint(len(replay_memory), size=batch_size)\n",
        "    batch = [replay_memory[index] for index in indices]\n",
        "    states, actions, rewards, next_states, dones = [\n",
        "        np.array([experience[field_index] for experience in batch])\n",
        "        for field_index in range(5)]\n",
        "    return states, actions, rewards, next_states, dones"
      ]
    },
    {
      "cell_type": "code",
      "execution_count": 31,
      "metadata": {
        "id": "IBK9W11l74gg"
      },
      "outputs": [],
      "source": [
        "def play_one_step(t, epsilon):\n",
        "    action = epsilon_greedy_policy(t, epsilon)\n",
        "    next_t, reward, done= step(t,tf.constant(action))\n",
        "    replay_memory.append((arreglar_tauler(t), action, reward, arreglar_tauler(next_t), done))\n",
        "    return next_t, reward, done\n",
        "\n",
        "\n"
      ]
    },
    {
      "cell_type": "code",
      "execution_count": 32,
      "metadata": {
        "id": "Giok7ofx74gh"
      },
      "outputs": [],
      "source": [
        "batch_size = 256\n",
        "discount_rate = 0.95\n",
        "optimizer = keras.optimizers.Adam(learning_rate=1e-2)\n",
        "loss_fn = tf.keras.losses.CategoricalCrossentropy ()\n",
        "\n",
        "def training_step(batch_size):\n",
        "    experiences = sample_experiences(batch_size)\n",
        "    states, actions, rewards, next_states, dones = experiences\n",
        "    next_Q_values = model.predict(next_states,verbose=0)\n",
        "    a=input()\n",
        "    best_next_actions = np.argmax(next_Q_values, axis=1)\n",
        "    next_mask = tf.one_hot(best_next_actions, n_outputs).numpy()\n",
        "    next_best_Q_values = (target.predict(next_states,verbose=0) * next_mask).sum(axis=1)\n",
        "    target_Q_values = (rewards +\n",
        "                       (1 - dones) * discount_rate * next_best_Q_values)\n",
        "    target_Q_values = target_Q_values.reshape(-1, 1)\n",
        "    mask = tf.one_hot(actions, n_outputs)\n",
        "    with tf.GradientTape() as tape:\n",
        "        all_Q_values = model(states)\n",
        "        Q_values = tf.reduce_sum(all_Q_values * mask, axis=1, keepdims=True)\n",
        "        loss = tf.reduce_mean(loss_fn(target_Q_values, Q_values))\n",
        "    grads = tape.gradient(loss, model.trainable_variables)\n",
        "    optimizer.apply_gradients(zip(grads, model.trainable_variables))"
      ]
    },
    {
      "cell_type": "code",
      "execution_count": 33,
      "metadata": {
        "id": "cUTcKJB1dZKn",
        "colab": {
          "base_uri": "https://localhost:8080/",
          "height": 36
        },
        "outputId": "0b065c87-68b6-496e-93c4-076f532ed509"
      },
      "outputs": [
        {
          "output_type": "execute_result",
          "data": {
            "text/plain": [
              "'experiences = sample_experiences(batch_size)\\nprint(len(experiences[0][0]),batch_size)\\nprint(experiences[0][0])'"
            ],
            "application/vnd.google.colaboratory.intrinsic+json": {
              "type": "string"
            }
          },
          "metadata": {},
          "execution_count": 33
        }
      ],
      "source": [
        "experiences = sample_experiences(batch_size)\n",
        "print(len(experiences[0][0]),batch_size)\n",
        "print(experiences[0][0])"
      ]
    },
    {
      "cell_type": "code",
      "execution_count": 34,
      "metadata": {
        "id": "FkCeBvEG74gi"
      },
      "outputs": [],
      "source": [
        "def prova():\n",
        "    tauler=lleguir_tauler(\"/content/drive/MyDrive/Colab Notebooks/Snowman/Dades/david.txt\",n=n,m=m)\n",
        "    print(tauler)\n",
        "    time.sleep(5)\n",
        "    clear_output(wait=True)\n",
        "    sum_rewards=0\n",
        "\n",
        "    for i in range(50):\n",
        "        aux=model.predict(arreglar_tauler(tauler)[np.newaxis,:,:],verbose=0).squeeze()\n",
        "\n",
        "        action=np.argmax(aux)\n",
        "        clear_output(wait=True)\n",
        "        print(aux)\n",
        "        tauler, reward, done = step(tauler,action)\n",
        "        sum_rewards+=reward\n",
        "        print(action,i,sum_rewards)\n",
        "        print(tauler)\n",
        "        time.sleep(5)\n",
        "    #clear_output(wait=True)"
      ]
    },
    {
      "cell_type": "code",
      "execution_count": 35,
      "metadata": {
        "id": "mCyo9xHh9gVu"
      },
      "outputs": [],
      "source": [
        "import glob\n",
        "\n",
        "path=\"/content/drive/MyDrive/Colab Notebooks/Snowman/Dades/facils/\"\n",
        "\n",
        "files=glob.glob(path+\"*.txt\")"
      ]
    },
    {
      "cell_type": "code",
      "execution_count": null,
      "metadata": {
        "id": "8U0Rylou74go",
        "colab": {
          "base_uri": "https://localhost:8080/"
        },
        "outputId": "68e5e428-781d-4275-cc59-ad0526685224"
      },
      "outputs": [
        {
          "output_type": "stream",
          "name": "stderr",
          "text": [
            "WARNING:tensorflow:No training configuration found in the save file, so the model was *not* compiled. Compile it manually.\n",
            "<ipython-input-26-8fc40d83b7f4>:19: DeprecationWarning: Conversion of an array with ndim > 0 to a scalar is deprecated, and will error in future. Ensure you extract a single element from your array before performing this operation. (Deprecated NumPy 1.25.)\n",
            "  mov=actions[int(t[seg[0],seg[1]])][int(t[seg2[0],seg2[1]])] #busca a la matri d'acions segons el que hi ha a la posició seguent i la seguent de la seguent\n"
          ]
        },
        {
          "output_type": "stream",
          "name": "stdout",
          "text": [
            "\rEpisode: 0, score: -0.1, best_score: -10, eps: 0.800, maxim: 10 "
          ]
        }
      ],
      "source": [
        "np.random.seed(42)\n",
        "tf.random.set_seed(42)\n",
        "\n",
        "rewards = []\n",
        "best_score = -100000\n",
        "episodes=150000\n",
        "jugades=30\n",
        "\n",
        "\n",
        "tf.keras.backend.clear_session()\n",
        "model=tf.keras.models.load_model(\"/content/drive/MyDrive/Colab Notebooks/Snowman/dddqn1.h5\")\n",
        "target.set_weights(model.get_weights())\n",
        "\n",
        "\n",
        "total=0\n",
        "maxim=-10000\n",
        "nom=\"/content/drive/MyDrive/Colab Notebooks/Snowman/Dades/david.txt\"\n",
        "taux=lleguir_tauler(nom)\n",
        "for episode in range(episodes):\n",
        "    #nom=files[episode % len(files)]\n",
        "    t=taux.copy()\n",
        "    epsilon = max(0.8 - episode / 25000, 0.1)\n",
        "    act_rewards=[]\n",
        "\n",
        "    for st in range(jugades):\n",
        "        t, reward, done  = play_one_step(t, epsilon)\n",
        "        act_rewards.append(reward)\n",
        "        if reward>maxim:\n",
        "          maxim=reward\n",
        "        if done:\n",
        "            break\n",
        "    score=sum(act_rewards)\n",
        "    total=total+score\n",
        "    '''rewards.append(score) # Not shown in the book'''\n",
        "    if score >= best_score: # Not shown\n",
        "        #best_weights = model.get_weights() # Not shown\n",
        "        best_score = score # Not shown'''\n",
        "    if episode%100==0:\n",
        "        print(\"\\rEpisode: {}, score: {}, best_score: {}, eps: {:.3f}, maxim: {} \".format(episode, total/100, best_score, epsilon,maxim), end=\"\") # Not shown\n",
        "        total=0\n",
        "        maxim=-10000\n",
        "    if episode >= 50:\n",
        "        training_step(batch_size)\n",
        "        if episode % 50 == 0:\n",
        "            target.set_weights(model.get_weights())\n",
        "\n",
        "#model.set_weights(best_weights)"
      ]
    },
    {
      "cell_type": "code",
      "source": [
        "print(taux)\n",
        "print(ttt[5])"
      ],
      "metadata": {
        "colab": {
          "base_uri": "https://localhost:8080/"
        },
        "id": "Cxhx6nzlppWb",
        "outputId": "9fbd799d-c4db-4322-92f2-33eabda6d5b4"
      },
      "execution_count": 44,
      "outputs": [
        {
          "output_type": "stream",
          "name": "stdout",
          "text": [
            "[[ 0.  0.  0.  0.  0.  0.  0.  0.  0.  0.]\n",
            " [ 0.  9.  9.  9.  9.  9.  9.  9.  0.  0.]\n",
            " [ 0.  9.  9.  9.  9.  9.  1.  9.  0.  0.]\n",
            " [ 0.  9.  1.  9.  9.  9.  9.  9.  0.  0.]\n",
            " [ 0.  9.  9.  9.  9.  9.  1.  9.  0.  0.]\n",
            " [ 0.  9.  9.  9. 10.  9.  9.  9.  0.  0.]\n",
            " [ 0.  0.  0.  0.  0.  0.  0.  0.  0.  0.]\n",
            " [ 0.  0.  0.  0.  0.  0.  0.  0.  0.  0.]\n",
            " [ 0.  0.  0.  0.  0.  0.  0.  0.  0.  0.]\n",
            " [ 0.  0.  0.  0.  0.  0.  0.  0.  0.  0.]]\n",
            "[[1. 0. 0. 0. 0. 0. 0.]\n",
            " [0. 1. 0. 0. 0. 0. 0.]\n",
            " [0. 1. 0. 0. 0. 0. 0.]\n",
            " [0. 1. 0. 0. 0. 0. 0.]\n",
            " [0. 1. 0. 1. 0. 0. 0.]\n",
            " [0. 1. 0. 0. 0. 0. 0.]\n",
            " [0. 1. 0. 0. 0. 0. 0.]\n",
            " [0. 1. 0. 0. 0. 0. 0.]\n",
            " [1. 0. 0. 0. 0. 0. 0.]\n",
            " [1. 0. 0. 0. 0. 0. 0.]]\n"
          ]
        }
      ]
    },
    {
      "cell_type": "markdown",
      "metadata": {
        "id": "nqC3Pwh274gp"
      },
      "source": []
    },
    {
      "cell_type": "code",
      "execution_count": null,
      "metadata": {
        "id": "eF2Linrw74gq"
      },
      "outputs": [],
      "source": [
        "plt.figure(figsize=(8, 4))\n",
        "plt.plot(rewards)\n",
        "plt.xlabel(\"Episode\", fontsize=14)\n",
        "plt.ylabel(\"Sum of rewards\", fontsize=14)\n",
        "#save_fig(\"dqn_rewards_plot\")\n",
        "plt.show()"
      ]
    },
    {
      "cell_type": "code",
      "execution_count": null,
      "metadata": {
        "id": "imZB-MWJ74gq"
      },
      "outputs": [],
      "source": [
        "#model.set_weights(best_weights)\n",
        "\n",
        "model.save(\"/content/drive/MyDrive/Colab Notebooks/Snowman/dddqn1.h5\")\n",
        "prova()"
      ]
    },
    {
      "cell_type": "code",
      "execution_count": null,
      "metadata": {
        "id": "cJmc7Jn874gy"
      },
      "outputs": [],
      "source": [
        "print(best_score)\n"
      ]
    },
    {
      "cell_type": "code",
      "execution_count": null,
      "metadata": {
        "id": "cJHFgzuT74gz"
      },
      "outputs": [],
      "source": []
    }
  ],
  "metadata": {
    "accelerator": "GPU",
    "colab": {
      "gpuType": "T4",
      "provenance": []
    },
    "kernelspec": {
      "display_name": "Python 3",
      "name": "python3"
    },
    "language_info": {
      "codemirror_mode": {
        "name": "ipython",
        "version": 3
      },
      "file_extension": ".py",
      "mimetype": "text/x-python",
      "name": "python",
      "nbconvert_exporter": "python",
      "pygments_lexer": "ipython3",
      "version": "3.12.1"
    }
  },
  "nbformat": 4,
  "nbformat_minor": 0
}